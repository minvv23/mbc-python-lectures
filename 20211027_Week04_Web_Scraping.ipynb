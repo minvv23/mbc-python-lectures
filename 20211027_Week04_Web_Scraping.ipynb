{
 "cells": [
  {
   "cell_type": "markdown",
   "metadata": {
    "colab_type": "text",
    "id": "mT0lKEp_hyqT",
    "tags": []
   },
   "source": [
    "## Week 04 : 웹 크롤링"
   ]
  },
  {
   "cell_type": "code",
   "execution_count": 2,
   "metadata": {},
   "outputs": [],
   "source": [
    "import re\n",
    "import pandas as pd\n",
    "import numpy as np\n",
    "import json\n",
    "import time\n",
    "from datetime import datetime, timedelta\n",
    "\n",
    "import requests\n",
    "from bs4 import BeautifulSoup\n",
    "from tqdm import tqdm\n",
    "from collections import Counter\n",
    "from itertools import chain\n",
    "from operator import itemgetter\n",
    "        \n",
    "basic_header = {\"User-Agent\":\"Mozilla/5.0 (Macintosh; Intel Mac OS X 10_9_5)\\AppleWebKit 537.36 (KHTML, like Gecko) Chrome\",\n",
    "                \"Accept\":\"text/html,application/xhtml+xml,application/xml;\\q=0.9,imgwebp,*/*;q=0.8\"}"
   ]
  },
  {
   "cell_type": "code",
   "execution_count": 31,
   "metadata": {},
   "outputs": [
    {
     "data": {
      "text/plain": [
       "['am', 'bm', 'cm']"
      ]
     },
     "execution_count": 31,
     "metadata": {},
     "output_type": "execute_result"
    }
   ],
   "source": [
    "x = ['a', 'b', 'c']\n",
    "y = [] # ['am', 'bm', 'cm']\n",
    "\n",
    "for i in x :\n",
    "    y.append(i+'m')\n",
    "\n",
    "y"
   ]
  },
  {
   "cell_type": "code",
   "execution_count": 3,
   "metadata": {},
   "outputs": [],
   "source": [
    "url = 'http://underscore.kr/'\n",
    "\n",
    "session = requests.Session()\n",
    "req = session.get(url, headers=basic_header, allow_redirects=True)\n",
    "soup = BeautifulSoup(req.text, 'lxml')"
   ]
  },
  {
   "cell_type": "code",
   "execution_count": 165,
   "metadata": {},
   "outputs": [
    {
     "name": "stdout",
     "output_type": "stream",
     "text": [
      "['entry-date', 'published', 'updated']\n",
      "['entry-date', 'published', 'updated']\n",
      "['entry-date', 'published']\n",
      "['updated']\n",
      "['entry-date', 'published']\n",
      "['updated']\n",
      "['entry-date', 'published', 'updated']\n",
      "['entry-date', 'published']\n",
      "['updated']\n"
     ]
    }
   ],
   "source": [
    "for each_time in soup.find_all('time') :\n",
    "    print(each_time['class'])"
   ]
  },
  {
   "cell_type": "code",
   "execution_count": 18,
   "metadata": {},
   "outputs": [
    {
     "data": {
      "text/plain": [
       "<h2 class=\"title-post entry-title\"><a href=\"http://underscore.kr/istrollingcontagious/\" rel=\"bookmark\">왜 자꾸 어그로를 끄는 거야!</a></h2>"
      ]
     },
     "execution_count": 18,
     "metadata": {},
     "output_type": "execute_result"
    }
   ],
   "source": [
    "soup.find('h2')"
   ]
  },
  {
   "cell_type": "code",
   "execution_count": 22,
   "metadata": {},
   "outputs": [
    {
     "data": {
      "text/plain": [
       "<a href=\"http://underscore.kr/istrollingcontagious/\" rel=\"bookmark\">왜 자꾸 어그로를 끄는 거야!</a>"
      ]
     },
     "execution_count": 22,
     "metadata": {},
     "output_type": "execute_result"
    }
   ],
   "source": [
    "soup.find('h2').a"
   ]
  },
  {
   "cell_type": "code",
   "execution_count": 24,
   "metadata": {},
   "outputs": [
    {
     "data": {
      "text/plain": [
       "'http://underscore.kr/istrollingcontagious/'"
      ]
     },
     "execution_count": 24,
     "metadata": {},
     "output_type": "execute_result"
    }
   ],
   "source": [
    "soup.find('h2').a['href']"
   ]
  },
  {
   "cell_type": "code",
   "execution_count": 34,
   "metadata": {},
   "outputs": [
    {
     "data": {
      "text/plain": [
       "[<h2 class=\"title-post entry-title\"><a href=\"http://underscore.kr/istrollingcontagious/\" rel=\"bookmark\">왜 자꾸 어그로를 끄는 거야!</a></h2>,\n",
       " <h2 class=\"title-post entry-title\"><a href=\"http://underscore.kr/politaku/\" rel=\"bookmark\">페이스북으로 ‘정잘알’이 될 수 있을까?</a></h2>,\n",
       " <h2 class=\"title-post entry-title\"><a href=\"http://underscore.kr/genderindanger/\" rel=\"bookmark\">당신은 남자답지 않습니다</a></h2>,\n",
       " <h2 class=\"title-post entry-title\"><a href=\"http://underscore.kr/goodhigschoolanduniv/\" rel=\"bookmark\">좋은 고등학교를 가면 대학 입시에서 유리할까?</a></h2>,\n",
       " <h2 class=\"title-post entry-title\"><a href=\"http://underscore.kr/hotweatherkillspeople/\" rel=\"bookmark\">덥다, 더워! 데이터가 알려주는 더위와 자살률의 관계</a></h2>,\n",
       " <h2 class=\"title-post entry-title\"><a href=\"http://underscore.kr/arenoobsmoreconfident/\" rel=\"bookmark\">진짜로 잘 모르는 사람이 더 용감할까?</a></h2>]"
      ]
     },
     "execution_count": 34,
     "metadata": {},
     "output_type": "execute_result"
    }
   ],
   "source": [
    "soup.find_all('h2')"
   ]
  },
  {
   "cell_type": "code",
   "execution_count": 50,
   "metadata": {},
   "outputs": [],
   "source": [
    "title_list = []\n",
    "suburl_list = []\n",
    "for each in soup.find_all('h2') :\n",
    "    title_list.append(each.a.text)\n",
    "    suburl_list.append(each.a['href'])"
   ]
  },
  {
   "cell_type": "code",
   "execution_count": 56,
   "metadata": {},
   "outputs": [],
   "source": [
    "title_list = [each.a.text for each in soup.find_all('h2')]\n",
    "suburl_list = [each.a['href'] for each in soup.find_all('h2')]"
   ]
  },
  {
   "cell_type": "code",
   "execution_count": 115,
   "metadata": {},
   "outputs": [],
   "source": [
    "underscoredf = pd.DataFrame(zip(title_list, suburl_list), columns=['title', 'url'])"
   ]
  },
  {
   "cell_type": "code",
   "execution_count": 116,
   "metadata": {},
   "outputs": [],
   "source": [
    "len_url_list = []\n",
    "for each in underscoredf['url'] :\n",
    "    len_url_list.append(len(each))\n",
    "\n",
    "len_title_list = []\n",
    "for each in underscoredf['title'] :\n",
    "    len_title_list.append(len(each))"
   ]
  },
  {
   "cell_type": "code",
   "execution_count": 117,
   "metadata": {},
   "outputs": [],
   "source": [
    "underscoredf['len_title'] = len_title_list\n",
    "underscoredf['len_url'] = len_url_list"
   ]
  },
  {
   "cell_type": "code",
   "execution_count": 118,
   "metadata": {},
   "outputs": [
    {
     "data": {
      "text/html": [
       "<div>\n",
       "<style scoped>\n",
       "    .dataframe tbody tr th:only-of-type {\n",
       "        vertical-align: middle;\n",
       "    }\n",
       "\n",
       "    .dataframe tbody tr th {\n",
       "        vertical-align: top;\n",
       "    }\n",
       "\n",
       "    .dataframe thead th {\n",
       "        text-align: right;\n",
       "    }\n",
       "</style>\n",
       "<table border=\"1\" class=\"dataframe\">\n",
       "  <thead>\n",
       "    <tr style=\"text-align: right;\">\n",
       "      <th></th>\n",
       "      <th>title</th>\n",
       "      <th>len_url</th>\n",
       "      <th>url</th>\n",
       "    </tr>\n",
       "  </thead>\n",
       "  <tbody>\n",
       "    <tr>\n",
       "      <th>0</th>\n",
       "      <td>왜 자꾸 어그로를 끄는 거야!</td>\n",
       "      <td>42</td>\n",
       "      <td>http://underscore.kr/istrollingcontagious/</td>\n",
       "    </tr>\n",
       "    <tr>\n",
       "      <th>1</th>\n",
       "      <td>페이스북으로 ‘정잘알’이 될 수 있을까?</td>\n",
       "      <td>30</td>\n",
       "      <td>http://underscore.kr/politaku/</td>\n",
       "    </tr>\n",
       "    <tr>\n",
       "      <th>2</th>\n",
       "      <td>당신은 남자답지 않습니다</td>\n",
       "      <td>36</td>\n",
       "      <td>http://underscore.kr/genderindanger/</td>\n",
       "    </tr>\n",
       "    <tr>\n",
       "      <th>3</th>\n",
       "      <td>좋은 고등학교를 가면 대학 입시에서 유리할까?</td>\n",
       "      <td>42</td>\n",
       "      <td>http://underscore.kr/goodhigschoolanduniv/</td>\n",
       "    </tr>\n",
       "    <tr>\n",
       "      <th>4</th>\n",
       "      <td>덥다, 더워! 데이터가 알려주는 더위와 자살률의 관계</td>\n",
       "      <td>43</td>\n",
       "      <td>http://underscore.kr/hotweatherkillspeople/</td>\n",
       "    </tr>\n",
       "    <tr>\n",
       "      <th>5</th>\n",
       "      <td>진짜로 잘 모르는 사람이 더 용감할까?</td>\n",
       "      <td>43</td>\n",
       "      <td>http://underscore.kr/arenoobsmoreconfident/</td>\n",
       "    </tr>\n",
       "  </tbody>\n",
       "</table>\n",
       "</div>"
      ],
      "text/plain": [
       "                           title  len_url  \\\n",
       "0               왜 자꾸 어그로를 끄는 거야!       42   \n",
       "1         페이스북으로 ‘정잘알’이 될 수 있을까?       30   \n",
       "2                  당신은 남자답지 않습니다       36   \n",
       "3      좋은 고등학교를 가면 대학 입시에서 유리할까?       42   \n",
       "4  덥다, 더워! 데이터가 알려주는 더위와 자살률의 관계       43   \n",
       "5          진짜로 잘 모르는 사람이 더 용감할까?       43   \n",
       "\n",
       "                                           url  \n",
       "0   http://underscore.kr/istrollingcontagious/  \n",
       "1               http://underscore.kr/politaku/  \n",
       "2         http://underscore.kr/genderindanger/  \n",
       "3   http://underscore.kr/goodhigschoolanduniv/  \n",
       "4  http://underscore.kr/hotweatherkillspeople/  \n",
       "5  http://underscore.kr/arenoobsmoreconfident/  "
      ]
     },
     "execution_count": 118,
     "metadata": {},
     "output_type": "execute_result"
    }
   ],
   "source": [
    "underscoredf[['title', 'len_url', 'url']]"
   ]
  },
  {
   "cell_type": "code",
   "execution_count": 119,
   "metadata": {},
   "outputs": [],
   "source": [
    "underscoredf['source'] = 'underscore'"
   ]
  },
  {
   "cell_type": "code",
   "execution_count": 120,
   "metadata": {},
   "outputs": [
    {
     "data": {
      "text/plain": [
       "Index(['title', 'url', 'len_title', 'len_url', 'source'], dtype='object')"
      ]
     },
     "execution_count": 120,
     "metadata": {},
     "output_type": "execute_result"
    }
   ],
   "source": [
    "underscoredf.columns"
   ]
  },
  {
   "cell_type": "code",
   "execution_count": 144,
   "metadata": {},
   "outputs": [
    {
     "data": {
      "text/plain": [
       "0    16\n",
       "1    22\n",
       "2    13\n",
       "3    25\n",
       "4    29\n",
       "5    21\n",
       "Name: len_title, dtype: int64"
      ]
     },
     "execution_count": 144,
     "metadata": {},
     "output_type": "execute_result"
    }
   ],
   "source": [
    "underscoredf['len_title']"
   ]
  },
  {
   "cell_type": "code",
   "execution_count": 151,
   "metadata": {},
   "outputs": [],
   "source": [
    "underscoredf['digit_len_title'] = underscoredf['len_title'].astype(str).str.len()"
   ]
  },
  {
   "cell_type": "code",
   "execution_count": 155,
   "metadata": {},
   "outputs": [],
   "source": [
    "underscoredf['doubled_len_title'] = underscoredf['len_title']*2"
   ]
  }
 ],
 "metadata": {
  "kernelspec": {
   "display_name": "Python 3",
   "language": "python",
   "name": "python3"
  },
  "language_info": {
   "codemirror_mode": {
    "name": "ipython",
    "version": 3
   },
   "file_extension": ".py",
   "mimetype": "text/x-python",
   "name": "python",
   "nbconvert_exporter": "python",
   "pygments_lexer": "ipython3",
   "version": "3.7.0"
  }
 },
 "nbformat": 4,
 "nbformat_minor": 4
}

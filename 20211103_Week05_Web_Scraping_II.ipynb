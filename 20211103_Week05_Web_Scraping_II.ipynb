{
 "cells": [
  {
   "cell_type": "markdown",
   "metadata": {
    "colab_type": "text",
    "id": "mT0lKEp_hyqT",
    "tags": []
   },
   "source": [
    "## Week 05 : 웹 크롤링 II"
   ]
  },
  {
   "cell_type": "code",
   "execution_count": 1,
   "metadata": {},
   "outputs": [],
   "source": [
    "import re\n",
    "import pandas as pd\n",
    "import numpy as np\n",
    "import json\n",
    "import time\n",
    "from datetime import datetime, timedelta\n",
    "\n",
    "import requests\n",
    "from bs4 import BeautifulSoup\n",
    "from tqdm import tqdm\n",
    "from collections import Counter\n",
    "from itertools import chain\n",
    "from operator import itemgetter\n",
    "        \n",
    "basic_header = {\"User-Agent\":\"Mozilla/5.0 (Macintosh; Intel Mac OS X 10_9_5)\\AppleWebKit 537.36 (KHTML, like Gecko) Chrome\",\n",
    "                \"Accept\":\"text/html,application/xhtml+xml,application/xml;\\q=0.9,imgwebp,*/*;q=0.8\"}"
   ]
  },
  {
   "cell_type": "code",
   "execution_count": null,
   "metadata": {},
   "outputs": [],
   "source": [
    "url = 'http://underscore.kr/'\n",
    "\n",
    "session = requests.Session()\n",
    "req = session.get(url, headers=basic_header, allow_redirects=True)\n",
    "soup = BeautifulSoup(req.text, 'lxml')"
   ]
  },
  {
   "cell_type": "code",
   "execution_count": null,
   "metadata": {},
   "outputs": [],
   "source": [
    "title_list = [each.a.text for each in soup.find_all('h2')]\n",
    "suburl_list = [each.a['href'] for each in soup.find_all('h2')]\n",
    "\n",
    "underscoredf = pd.DataFrame(zip(title_list, suburl_list), columns=['title', 'url'])\n",
    "\n",
    "underscoredf['len_title'] = underscoredf['title'].str.len()\n",
    "underscoredf['len_url'] = underscoredf['url'].str.len()\n",
    "underscoredf['source'] = 'underscore'\n",
    "underscoredf['digit_len_title'] = underscoredf['len_title'].astype(str).str.len()\n",
    "underscoredf['doubled_len_title'] = underscoredf['len_title']*2"
   ]
  },
  {
   "cell_type": "code",
   "execution_count": null,
   "metadata": {},
   "outputs": [],
   "source": [
    "underscoredf"
   ]
  }
 ],
 "metadata": {
  "kernelspec": {
   "display_name": "Python 3",
   "language": "python",
   "name": "python3"
  },
  "language_info": {
   "codemirror_mode": {
    "name": "ipython",
    "version": 3
   },
   "file_extension": ".py",
   "mimetype": "text/x-python",
   "name": "python",
   "nbconvert_exporter": "python",
   "pygments_lexer": "ipython3",
   "version": "3.7.0"
  }
 },
 "nbformat": 4,
 "nbformat_minor": 4
}

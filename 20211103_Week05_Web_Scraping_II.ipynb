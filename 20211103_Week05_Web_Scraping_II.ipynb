{
 "cells": [
  {
   "cell_type": "markdown",
   "metadata": {
    "colab_type": "text",
    "id": "mT0lKEp_hyqT",
    "tags": []
   },
   "source": [
    "## Week 05 : 웹 크롤링 II"
   ]
  },
  {
   "cell_type": "code",
   "execution_count": 1,
   "metadata": {},
   "outputs": [],
   "source": [
    "import re\n",
    "import pandas as pd\n",
    "import numpy as np\n",
    "import json\n",
    "import time\n",
    "from datetime import datetime, timedelta\n",
    "\n",
    "import requests\n",
    "from bs4 import BeautifulSoup\n",
    "from tqdm import tqdm\n",
    "from collections import Counter\n",
    "from itertools import chain\n",
    "from operator import itemgetter\n",
    "        \n",
    "basic_header = {\"User-Agent\":\"Mozilla/5.0 (Macintosh; Intel Mac OS X 10_9_5)\\AppleWebKit 537.36 (KHTML, like Gecko) Chrome\",\n",
    "                \"Accept\":\"text/html,application/xhtml+xml,application/xml;\\q=0.9,imgwebp,*/*;q=0.8\"}"
   ]
  },
  {
   "cell_type": "code",
   "execution_count": 2,
   "metadata": {},
   "outputs": [],
   "source": [
    "def url_to_soup(input_url) :\n",
    "    session = requests.Session()\n",
    "    req = session.get(input_url, headers=basic_header, allow_redirects=True)\n",
    "    soup = BeautifulSoup(req.text, 'lxml')\n",
    "    return soup\n",
    "\n",
    "soup = url_to_soup('http://underscore.kr/')"
   ]
  },
  {
   "cell_type": "code",
   "execution_count": 3,
   "metadata": {},
   "outputs": [
    {
     "name": "stdout",
     "output_type": "stream",
     "text": [
      "http://underscore.kr/istrollingcontagious/\n",
      "http://underscore.kr/politaku/\n",
      "http://underscore.kr/genderindanger/\n",
      "http://underscore.kr/goodhigschoolanduniv/\n",
      "http://underscore.kr/hotweatherkillspeople/\n",
      "http://underscore.kr/arenoobsmoreconfident/\n"
     ]
    }
   ],
   "source": [
    "for h2 in soup.find_all('h2') :\n",
    "    print(h2.a['href'])"
   ]
  },
  {
   "cell_type": "code",
   "execution_count": 4,
   "metadata": {},
   "outputs": [],
   "source": [
    "title_list = [each.a.text for each in soup.find_all('h2')]\n",
    "suburl_list = [each.a['href'] for each in soup.find_all('h2')]\n",
    "\n",
    "underscoredf = pd.DataFrame(zip(title_list, suburl_list), columns=['title', 'url'])\n",
    "\n",
    "underscoredf['len_title'] = underscoredf['title'].str.len()\n",
    "underscoredf['len_url'] = underscoredf['url'].str.len()\n",
    "underscoredf['source'] = 'underscore'\n",
    "underscoredf['digit_len_title'] = underscoredf['len_title'].astype(str).str.len()\n",
    "underscoredf['doubled_len_title'] = underscoredf['len_title']*2"
   ]
  },
  {
   "cell_type": "code",
   "execution_count": 5,
   "metadata": {},
   "outputs": [],
   "source": [
    "predatesoup = soup.find_all('span', {'class':'posted-on'})\n",
    "date_list = []\n",
    "for each in predatesoup :\n",
    "    date_list.append(each.find_all('time')[-1]['datetime'])"
   ]
  },
  {
   "cell_type": "code",
   "execution_count": 6,
   "metadata": {},
   "outputs": [],
   "source": [
    "predatesoup = soup.find_all('span', {'class':'posted-on'})\n",
    "date_list = [each.find_all('time')[-1]['datetime'] for each in predatesoup]"
   ]
  },
  {
   "cell_type": "code",
   "execution_count": 7,
   "metadata": {},
   "outputs": [
    {
     "data": {
      "text/html": [
       "<div>\n",
       "<style scoped>\n",
       "    .dataframe tbody tr th:only-of-type {\n",
       "        vertical-align: middle;\n",
       "    }\n",
       "\n",
       "    .dataframe tbody tr th {\n",
       "        vertical-align: top;\n",
       "    }\n",
       "\n",
       "    .dataframe thead th {\n",
       "        text-align: right;\n",
       "    }\n",
       "</style>\n",
       "<table border=\"1\" class=\"dataframe\">\n",
       "  <thead>\n",
       "    <tr style=\"text-align: right;\">\n",
       "      <th></th>\n",
       "      <th>title</th>\n",
       "      <th>url</th>\n",
       "      <th>time</th>\n",
       "    </tr>\n",
       "  </thead>\n",
       "  <tbody>\n",
       "    <tr>\n",
       "      <th>0</th>\n",
       "      <td>왜 자꾸 어그로를 끄는 거야!</td>\n",
       "      <td>http://underscore.kr/istrollingcontagious/</td>\n",
       "      <td>2018-09-28T19:30:42+00:00</td>\n",
       "    </tr>\n",
       "    <tr>\n",
       "      <th>1</th>\n",
       "      <td>페이스북으로 ‘정잘알’이 될 수 있을까?</td>\n",
       "      <td>http://underscore.kr/politaku/</td>\n",
       "      <td>2018-09-16T00:20:45+00:00</td>\n",
       "    </tr>\n",
       "    <tr>\n",
       "      <th>2</th>\n",
       "      <td>당신은 남자답지 않습니다</td>\n",
       "      <td>http://underscore.kr/genderindanger/</td>\n",
       "      <td>2018-09-08T23:59:15+00:00</td>\n",
       "    </tr>\n",
       "    <tr>\n",
       "      <th>3</th>\n",
       "      <td>좋은 고등학교를 가면 대학 입시에서 유리할까?</td>\n",
       "      <td>http://underscore.kr/goodhigschoolanduniv/</td>\n",
       "      <td>2018-08-28T20:01:48+00:00</td>\n",
       "    </tr>\n",
       "    <tr>\n",
       "      <th>4</th>\n",
       "      <td>덥다, 더워! 데이터가 알려주는 더위와 자살률의 관계</td>\n",
       "      <td>http://underscore.kr/hotweatherkillspeople/</td>\n",
       "      <td>2018-08-13T20:53:25+00:00</td>\n",
       "    </tr>\n",
       "    <tr>\n",
       "      <th>5</th>\n",
       "      <td>진짜로 잘 모르는 사람이 더 용감할까?</td>\n",
       "      <td>http://underscore.kr/arenoobsmoreconfident/</td>\n",
       "      <td>2018-08-02T18:18:07+00:00</td>\n",
       "    </tr>\n",
       "  </tbody>\n",
       "</table>\n",
       "</div>"
      ],
      "text/plain": [
       "                           title                                          url  \\\n",
       "0               왜 자꾸 어그로를 끄는 거야!   http://underscore.kr/istrollingcontagious/   \n",
       "1         페이스북으로 ‘정잘알’이 될 수 있을까?               http://underscore.kr/politaku/   \n",
       "2                  당신은 남자답지 않습니다         http://underscore.kr/genderindanger/   \n",
       "3      좋은 고등학교를 가면 대학 입시에서 유리할까?   http://underscore.kr/goodhigschoolanduniv/   \n",
       "4  덥다, 더워! 데이터가 알려주는 더위와 자살률의 관계  http://underscore.kr/hotweatherkillspeople/   \n",
       "5          진짜로 잘 모르는 사람이 더 용감할까?  http://underscore.kr/arenoobsmoreconfident/   \n",
       "\n",
       "                        time  \n",
       "0  2018-09-28T19:30:42+00:00  \n",
       "1  2018-09-16T00:20:45+00:00  \n",
       "2  2018-09-08T23:59:15+00:00  \n",
       "3  2018-08-28T20:01:48+00:00  \n",
       "4  2018-08-13T20:53:25+00:00  \n",
       "5  2018-08-02T18:18:07+00:00  "
      ]
     },
     "execution_count": 7,
     "metadata": {},
     "output_type": "execute_result"
    }
   ],
   "source": [
    "underscoredf = \\\n",
    "pd.DataFrame(zip(title_list, suburl_list, date_list), columns=['title', 'url', 'time'])\n",
    "underscoredf"
   ]
  },
  {
   "cell_type": "code",
   "execution_count": 8,
   "metadata": {},
   "outputs": [
    {
     "data": {
      "text/plain": [
       "0     http://underscore.kr/istrollingcontagious/\n",
       "1                 http://underscore.kr/politaku/\n",
       "2           http://underscore.kr/genderindanger/\n",
       "3     http://underscore.kr/goodhigschoolanduniv/\n",
       "4    http://underscore.kr/hotweatherkillspeople/\n",
       "5    http://underscore.kr/arenoobsmoreconfident/\n",
       "Name: url, dtype: object"
      ]
     },
     "execution_count": 8,
     "metadata": {},
     "output_type": "execute_result"
    }
   ],
   "source": [
    "underscoredf['url']"
   ]
  },
  {
   "cell_type": "code",
   "execution_count": null,
   "metadata": {},
   "outputs": [
    {
     "name": "stderr",
     "output_type": "stream",
     "text": [
      " 67%|████████████████████████████████████████████████████████                            | 4/6 [00:05<00:02,  1.35s/it]"
     ]
    }
   ],
   "source": [
    "tag_list = []\n",
    "for each_url in tqdm(underscoredf['url']) :\n",
    "    time.sleep(1)\n",
    "    cnsoup = url_to_soup(each_url)\n",
    "    tag_list.append([a.text for a in cnsoup.find('span', {'class':'tags-links'}).find_all('a')])"
   ]
  },
  {
   "cell_type": "code",
   "execution_count": null,
   "metadata": {},
   "outputs": [],
   "source": []
  },
  {
   "cell_type": "code",
   "execution_count": null,
   "metadata": {},
   "outputs": [],
   "source": [
    "mainsoup = url_to_soup('https://imnews.imbc.com/pc_main.html')\n",
    "\n",
    "mbc_title_list = []\n",
    "mbc_url_list = []\n",
    "mbc_writer_list = []\n",
    "\n",
    "for li in mainsoup.find_all('li', {'class':'ellipsis'}) :\n",
    "    mbc_url_list.append(li.a['href'])\n",
    "    mbc_title_list.append(li.a.text)\n",
    "    \n",
    "for article_url in mbc_url_list :\n",
    "    time.sleep(.7)\n",
    "    article_soup = url_to_soup(article_url)\n",
    "    mbc_writer_list.append(article_soup.find('span', {'class':'writer'}).text)  "
   ]
  },
  {
   "cell_type": "code",
   "execution_count": null,
   "metadata": {},
   "outputs": [],
   "source": [
    "pd.DataFrame(zip(mbc_title_list, mbc_url_list, mbc_writer_list))"
   ]
  },
  {
   "cell_type": "code",
   "execution_count": null,
   "metadata": {},
   "outputs": [],
   "source": []
  }
 ],
 "metadata": {
  "kernelspec": {
   "display_name": "Python 3",
   "language": "python",
   "name": "python3"
  },
  "language_info": {
   "codemirror_mode": {
    "name": "ipython",
    "version": 3
   },
   "file_extension": ".py",
   "mimetype": "text/x-python",
   "name": "python",
   "nbconvert_exporter": "python",
   "pygments_lexer": "ipython3",
   "version": "3.7.0"
  }
 },
 "nbformat": 4,
 "nbformat_minor": 4
}

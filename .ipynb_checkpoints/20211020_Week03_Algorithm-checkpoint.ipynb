{
 "cells": [
  {
   "cell_type": "markdown",
   "metadata": {
    "colab_type": "text",
    "id": "mT0lKEp_hyqT",
    "tags": []
   },
   "source": [
    "## Week 03 : 패키지 호출, 알고리즘 연습 문제"
   ]
  },
  {
   "cell_type": "markdown",
   "metadata": {},
   "source": [
    "#### 패키지 호출 예시"
   ]
  },
  {
   "cell_type": "code",
   "execution_count": 1,
   "metadata": {},
   "outputs": [],
   "source": [
    "import os # os라는 패키지를 불러오기\n",
    "import numpy as np # numpy라는 패키지를 np라는 이름으로 불러오기\n",
    "from time import sleep # time이라는 패키지에서 sleep이라는 메소드만 불러오기\n",
    "from tqdm import tqdm # tqdm이라는 패키지에서 tqdm이라는 메소드만 불러오기 (패키지명과 그 하위 함수명이 같은 케이스)"
   ]
  },
  {
   "cell_type": "code",
   "execution_count": 2,
   "metadata": {},
   "outputs": [
    {
     "name": "stderr",
     "output_type": "stream",
     "text": [
      "100%|██████████████████████████████████████████████████████████████████████████████████| 50/50 [00:05<00:00,  9.17it/s]\n"
     ]
    }
   ],
   "source": [
    "for i in tqdm(range(50)) : # tqdm은 코드 진행 progress bar를 표시해주는 함수\n",
    "    sleep(.1) # 0.1초 쉬기\n",
    "    i*3 # 그냥 아무 연산 넣어본 것"
   ]
  },
  {
   "cell_type": "markdown",
   "metadata": {},
   "source": [
    "#### 알고리즘 연습문제"
   ]
  },
  {
   "cell_type": "markdown",
   "metadata": {},
   "source": [
    "**문제 1. 주어진 숫자가 대칭인지 판별하는 함수를 만드시오**\n",
    "- 3 → True\n",
    "- 131 → True\n",
    "- 27872 → True\n",
    "- -35 → False\n",
    "- 700 → False\n",
    "- 93 → False"
   ]
  },
  {
   "cell_type": "code",
   "execution_count": 3,
   "metadata": {},
   "outputs": [],
   "source": [
    "# 풀이 방식 #1 : 빈 리스트에 넣어둔 후 그 길이를 비교해서 return\n",
    "def str_palindrome_detector(x) :\n",
    "    x_str = str(x)\n",
    "    output_list = []\n",
    "    for index in range(len(x_str)) :\n",
    "        if x_str[index]==x_str[-(index+1)] :\n",
    "            output_list.append(1)            \n",
    "    if len(output_list)==len(x_str) :\n",
    "        output = True\n",
    "    else :\n",
    "        output = False\n",
    "        \n",
    "    return output"
   ]
  },
  {
   "cell_type": "code",
   "execution_count": 4,
   "metadata": {},
   "outputs": [],
   "source": [
    "# 풀이 방식 #2 : b=0이라는 빈 값을 만든 후 하나 씩 키워감\n",
    "def str_palindrome_detector(x) :\n",
    "    x_str = str(x)\n",
    "    b = 0\n",
    "    \n",
    "    for index in range(len(x_str)) :\n",
    "        if x_str[index]==x_str[-(index+1)] :\n",
    "            b += 1 # b = b+1\n",
    "    \n",
    "    if b==len(x_str) :\n",
    "        output = True\n",
    "    else :\n",
    "        output = False\n",
    "    \n",
    "    return output"
   ]
  },
  {
   "cell_type": "code",
   "execution_count": 5,
   "metadata": {},
   "outputs": [
    {
     "data": {
      "text/plain": [
       "True"
      ]
     },
     "execution_count": 5,
     "metadata": {},
     "output_type": "execute_result"
    }
   ],
   "source": [
    "str_palindrome_detector(12321)\n",
    "str_palindrome_detector(12331)\n",
    "str_palindrome_detector(-1234321)\n",
    "str_palindrome_detector(10)\n",
    "str_palindrome_detector(3)"
   ]
  },
  {
   "cell_type": "markdown",
   "metadata": {},
   "source": [
    "그런데 여기서 숫자를 강제로 글자(str)로 변환하지 않고 문제를 풀려면 몇의 자리수인지를 숫자인 상태로 판단해야 하는데... 이 때는 \"재귀함수\"라는 것을 사용해야 한다"
   ]
  },
  {
   "cell_type": "code",
   "execution_count": 6,
   "metadata": {},
   "outputs": [],
   "source": [
    "def lenDigits(x): \n",
    "    if x < 10:\n",
    "        return 1\n",
    "    else :\n",
    "        return 1 + lenDigits(x / 10)"
   ]
  },
  {
   "cell_type": "code",
   "execution_count": 7,
   "metadata": {},
   "outputs": [],
   "source": [
    "def lenDigits(x): \n",
    "    if x < 10:\n",
    "        return 1\n",
    "    return 1 + lenDigits(x / 10)"
   ]
  },
  {
   "cell_type": "code",
   "execution_count": 8,
   "metadata": {},
   "outputs": [
    {
     "data": {
      "text/plain": [
       "True"
      ]
     },
     "execution_count": 8,
     "metadata": {},
     "output_type": "execute_result"
    }
   ],
   "source": [
    "lenDigits(300000)==len('300000')"
   ]
  },
  {
   "cell_type": "code",
   "execution_count": 9,
   "metadata": {},
   "outputs": [],
   "source": [
    "# 풀이 방식 #3\n",
    "def palindrome_detector(x) :\n",
    "    x_length = lenDigits(x)\n",
    "    if x<0 :\n",
    "        print(False)\n",
    "    elif x<10 :\n",
    "        print(True)\n",
    "    else:\n",
    "        listed_x = [int(x/(10**(x_length-i)))%10 for i in range(1, x_length+1)]\n",
    "        if len([i for i in range(0, len(listed_x)//2) if listed_x[i] != listed_x[-(i+1)]])==0 :\n",
    "            print(True)\n",
    "        else :\n",
    "            print(False)"
   ]
  },
  {
   "cell_type": "code",
   "execution_count": 10,
   "metadata": {},
   "outputs": [
    {
     "name": "stdout",
     "output_type": "stream",
     "text": [
      "True\n",
      "False\n",
      "False\n",
      "False\n",
      "True\n"
     ]
    }
   ],
   "source": [
    "palindrome_detector(12321)\n",
    "palindrome_detector(12331)\n",
    "palindrome_detector(-1234321)\n",
    "palindrome_detector(10)\n",
    "palindrome_detector(3)"
   ]
  },
  {
   "cell_type": "markdown",
   "metadata": {},
   "source": [
    "**문제 2. 주어진 숫자를 반대로 뒤집으시오. 단 양수/음수의 형태는 유지해야 한다.**\n",
    "- 456 → 654\n",
    "- -123 → -321  \n",
    "- 120 → 21  "
   ]
  },
  {
   "cell_type": "code",
   "execution_count": 11,
   "metadata": {},
   "outputs": [],
   "source": [
    "def number_reverser(x) :\n",
    "    reversed_str = []\n",
    "    for i in range(1, len(str(x))+1) :\n",
    "        reversed_str.append(str(x)[-i])\n",
    "    if ''.join(reversed_str)[-1] == '-' :\n",
    "        revnum = int('-'+''.join(reversed_str)[:-1])\n",
    "    else :\n",
    "        revnum = int(''.join(reversed_str))\n",
    "    return revnum"
   ]
  },
  {
   "cell_type": "code",
   "execution_count": 12,
   "metadata": {},
   "outputs": [
    {
     "name": "stdout",
     "output_type": "stream",
     "text": [
      "321\n",
      "-321\n",
      "21\n"
     ]
    }
   ],
   "source": [
    "print(number_reverser(123))\n",
    "print(number_reverser(-123))\n",
    "print(number_reverser(120))"
   ]
  }
 ],
 "metadata": {
  "kernelspec": {
   "display_name": "Python 3",
   "language": "python",
   "name": "python3"
  },
  "language_info": {
   "codemirror_mode": {
    "name": "ipython",
    "version": 3
   },
   "file_extension": ".py",
   "mimetype": "text/x-python",
   "name": "python",
   "nbconvert_exporter": "python",
   "pygments_lexer": "ipython3",
   "version": "3.7.0"
  }
 },
 "nbformat": 4,
 "nbformat_minor": 4
}

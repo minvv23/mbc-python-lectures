{
 "cells": [
  {
   "cell_type": "markdown",
   "metadata": {
    "colab_type": "text",
    "id": "mT0lKEp_hyqT",
    "tags": []
   },
   "source": [
    "## Week 02 : if문, 이중for문, 함수, map, lambda"
   ]
  },
  {
   "cell_type": "markdown",
   "metadata": {},
   "source": [
    "**if, elif, else 구문 사용법**\n",
    "- 문법 구조 - if 특정 조건 : A, elif 특정 조건 : B, 나머지(else) : C\n",
    "- if문은 맨 위에서부터 작동함에 유의. 즉 첫 구절인 if문에서 해당 코드가 적용 불가능하면 error가 발생할 수 있음"
   ]
  },
  {
   "cell_type": "code",
   "execution_count": 14,
   "metadata": {},
   "outputs": [
    {
     "name": "stdout",
     "output_type": "stream",
     "text": [
      "smaller or equal to 3\n"
     ]
    }
   ],
   "source": [
    "y = True\n",
    "\n",
    "if type(y)==str :\n",
    "    print('IT IS NOT A NUMBER')\n",
    "elif y<=3 :\n",
    "    print('smaller or equal to 3')\n",
    "else :\n",
    "    print('larger than 3')"
   ]
  },
  {
   "cell_type": "markdown",
   "metadata": {},
   "source": [
    "**주어진 list를 두 배 해주는 방법을 복습해보자면...**\n",
    "- 빈 리스트 생성\n",
    "- for문을 돌며 주어진 list 각각의 element에 2를 곱해줌\n",
    "- append 메소드를 활용해 빈 리스트에 삽입"
   ]
  },
  {
   "cell_type": "code",
   "execution_count": 17,
   "metadata": {
    "tags": []
   },
   "outputs": [
    {
     "name": "stdout",
     "output_type": "stream",
     "text": [
      "[2, 20, 470]\n"
     ]
    }
   ],
   "source": [
    "x = [1, 10, 235]\n",
    "doubled_x = []\n",
    "\n",
    "for each in x :\n",
    "    doubled_x.append(each*2)\n",
    "    \n",
    "print(doubled_x)"
   ]
  },
  {
   "cell_type": "markdown",
   "metadata": {},
   "source": [
    "**홀수면 2배를 해주고 짝수면 3배를 해주며, list가 들어오면 통째로 10배를 해주는 코드**\n",
    "- 첫 번째, list의 경우 2배나 3배 연산이 되지 않으니 맨 위 if문에서 이를 처리해주는 코드를 작성해야 함.\n",
    "- 두 번째, 단순히 list에 10을 곱하면, 해당 list의 값을 10번 반복한 새 list가 만들어짐. 이에 빈 list를 한 번 더 만들어서, 각각에 10을 곱해주는 작업을 해주어야 함. 그 과정에서 for문을 한 번 더 사용해야 함.\n",
    "- 세 번째, elif와 else에서는 홀수/짝수 여부만에 대해 처리해주면 끝."
   ]
  },
  {
   "cell_type": "code",
   "execution_count": 50,
   "metadata": {},
   "outputs": [
    {
     "data": {
      "text/plain": [
       "[2, [30, 20, 10, 50, 70], 14, 30, 78, [780], 470]"
      ]
     },
     "execution_count": 50,
     "metadata": {},
     "output_type": "execute_result"
    }
   ],
   "source": [
    "x = [1, [3,2,1,5,7], 7, 10, 26, [78], 235]\n",
    "new_x = []\n",
    "\n",
    "for each in x :\n",
    "    if type(each)==list : #리스트일 때\n",
    "        temp = []\n",
    "        for j in each :\n",
    "            temp.append(j*10)\n",
    "        val = temp\n",
    "    elif each%2==1 : #홀수일 때\n",
    "        val = each*2\n",
    "    else :\n",
    "        val = each*3\n",
    "    new_x.append(val)\n",
    "        \n",
    "new_x"
   ]
  },
  {
   "cell_type": "markdown",
   "metadata": {},
   "source": [
    "**함수 생성**\n",
    "- 문제는 이런 '두 배로 리스트 만들어주기' 같은 작업을 여러 리스트에 대해 시행하고 싶을 수 있음. 그 경우 가장 단순한 방식은 아래처럼, 매번 새로 코드를 작성하는 것이겠으나.. 이러한 작업을 한 번 더 자동화하기 위해 '함수' 개념이 필요함\n",
    "- 문법 구조 - def 함수이름(삽입값을 불러줄 이름) : 함수내용 return 뱉을출력값\n",
    "- 항상 마지막에는 return을 해줘야 값이 출력/저장됨."
   ]
  },
  {
   "cell_type": "code",
   "execution_count": 53,
   "metadata": {},
   "outputs": [],
   "source": [
    "x = [1, 10, 235]\n",
    "doubled_x = []\n",
    "for each in x :\n",
    "    doubled_x.append(each*2)\n",
    "    \n",
    "y = [32,2,4,23523]\n",
    "doubled_y = []\n",
    "for each in y :\n",
    "    doubled_y.append(each*2)\n",
    "\n",
    "a = [1324235235,45]\n",
    "doubled_a = []\n",
    "for each in a :\n",
    "    doubled_a.append(each*2)"
   ]
  },
  {
   "cell_type": "code",
   "execution_count": 2,
   "metadata": {},
   "outputs": [],
   "source": [
    "def doubler(given_list) :\n",
    "    doubled_list = []\n",
    "    for each in given_list :\n",
    "        doubled_list.append(each*2)\n",
    "    return doubled_list"
   ]
  },
  {
   "cell_type": "code",
   "execution_count": 3,
   "metadata": {},
   "outputs": [],
   "source": [
    "def calculator(val) :\n",
    "    return (val+10)*3"
   ]
  },
  {
   "cell_type": "code",
   "execution_count": 4,
   "metadata": {},
   "outputs": [
    {
     "data": {
      "text/plain": [
       "[4, 20, 34]"
      ]
     },
     "execution_count": 4,
     "metadata": {},
     "output_type": "execute_result"
    }
   ],
   "source": [
    "doubler([2,10,17])"
   ]
  },
  {
   "cell_type": "code",
   "execution_count": 5,
   "metadata": {},
   "outputs": [
    {
     "data": {
      "text/plain": [
       "930"
      ]
     },
     "execution_count": 5,
     "metadata": {},
     "output_type": "execute_result"
    }
   ],
   "source": [
    "calculator(300)"
   ]
  },
  {
   "cell_type": "markdown",
   "metadata": {},
   "source": [
    "**map**\n",
    "- 여러 element에 특정 함수를 반복해서 적용해주고 싶을 때 map을 사용할 수 있음\n",
    "- map이 받는 값은 두 가지임\n",
    "- 문법 구조 - map(각각에적용할함수, 그대상이되는덩어리)"
   ]
  },
  {
   "cell_type": "code",
   "execution_count": 73,
   "metadata": {},
   "outputs": [
    {
     "data": {
      "text/plain": [
       "[33, 39, 45]"
      ]
     },
     "execution_count": 73,
     "metadata": {},
     "output_type": "execute_result"
    }
   ],
   "source": [
    "x = [1,3,5]\n",
    "new_x = list(map(calculator, x))\n",
    "\n",
    "new_x"
   ]
  },
  {
   "cell_type": "code",
   "execution_count": 74,
   "metadata": {},
   "outputs": [
    {
     "data": {
      "text/plain": [
       "['1', '3', '5']"
      ]
     },
     "execution_count": 74,
     "metadata": {},
     "output_type": "execute_result"
    }
   ],
   "source": [
    "new_x = list(map(str, x))\n",
    "new_x"
   ]
  },
  {
   "cell_type": "markdown",
   "metadata": {},
   "source": [
    "**익명 함수 lambda**\n",
    "- 한 번 쓰고 말 일회용(?) 함수를 위해 매번 def로 이름 붙여주는 건 정말 귀찮은 일\n",
    "- lambda를 활용한다면 이러한 문제를 해결 가능\n",
    "- 문법 구조 - lambda 입력값이름 : 입력값에취해줄조치후출력값"
   ]
  },
  {
   "cell_type": "code",
   "execution_count": 76,
   "metadata": {},
   "outputs": [
    {
     "data": {
      "text/plain": [
       "153"
      ]
     },
     "execution_count": 76,
     "metadata": {},
     "output_type": "execute_result"
    }
   ],
   "source": [
    "(lambda x : x*3+3)(50)"
   ]
  },
  {
   "cell_type": "code",
   "execution_count": 79,
   "metadata": {},
   "outputs": [
    {
     "data": {
      "text/plain": [
       "[1, 21, 41]"
      ]
     },
     "execution_count": 79,
     "metadata": {},
     "output_type": "execute_result"
    }
   ],
   "source": [
    "x = [1,3,5]\n",
    "\n",
    "list(map(lambda val : val*10-9, x))"
   ]
  },
  {
   "cell_type": "markdown",
   "metadata": {},
   "source": [
    "- 예제) 어떤 값이 들어왔을 때 10을 곱한 후 9를 빼주는 mbc라는 이름의 함수를 만드시오. 그 후 [1,10,50]이라는 리스트의 값 각각에 대해 mbc함수를 적용하시오\n",
    "- ex) mbc(7) -> 61"
   ]
  },
  {
   "cell_type": "code",
   "execution_count": 87,
   "metadata": {},
   "outputs": [],
   "source": [
    "example = [1, 10, 50]"
   ]
  },
  {
   "cell_type": "code",
   "execution_count": 88,
   "metadata": {},
   "outputs": [
    {
     "data": {
      "text/plain": [
       "[1, 91, 491]"
      ]
     },
     "execution_count": 88,
     "metadata": {},
     "output_type": "execute_result"
    }
   ],
   "source": [
    "def mbc(x) :\n",
    "    return x*10 - 9\n",
    "\n",
    "new_ex = []\n",
    "for i in example :\n",
    "    new_ex.append(mbc(i))\n",
    "new_ex"
   ]
  },
  {
   "cell_type": "code",
   "execution_count": 95,
   "metadata": {},
   "outputs": [
    {
     "data": {
      "text/plain": [
       "[1, 91, 491]"
      ]
     },
     "execution_count": 95,
     "metadata": {},
     "output_type": "execute_result"
    }
   ],
   "source": [
    "new_ex = list(map(mbc, example))\n",
    "new_ex"
   ]
  },
  {
   "cell_type": "code",
   "execution_count": 96,
   "metadata": {},
   "outputs": [
    {
     "data": {
      "text/plain": [
       "[1, 91, 491]"
      ]
     },
     "execution_count": 96,
     "metadata": {},
     "output_type": "execute_result"
    }
   ],
   "source": [
    "new_ex = list(map(lambda something : something*10 - 9, example))\n",
    "new_ex"
   ]
  },
  {
   "cell_type": "code",
   "execution_count": 97,
   "metadata": {},
   "outputs": [
    {
     "data": {
      "text/plain": [
       "['1', '10', '50']"
      ]
     },
     "execution_count": 97,
     "metadata": {},
     "output_type": "execute_result"
    }
   ],
   "source": [
    "new_ex = list(map(str, example))\n",
    "new_ex"
   ]
  },
  {
   "cell_type": "markdown",
   "metadata": {},
   "source": [
    "**list comprehension : for문을 한 줄로 쓰기**"
   ]
  },
  {
   "cell_type": "code",
   "execution_count": 5,
   "metadata": {},
   "outputs": [],
   "source": [
    "b = [3, 5, 7, 10]"
   ]
  },
  {
   "cell_type": "code",
   "execution_count": 6,
   "metadata": {},
   "outputs": [
    {
     "data": {
      "text/plain": [
       "[30, 50, 70, 100]"
      ]
     },
     "execution_count": 6,
     "metadata": {},
     "output_type": "execute_result"
    }
   ],
   "source": [
    "new_b = []\n",
    "for val in b :\n",
    "    new_b.append(val*10)\n",
    "\n",
    "new_b"
   ]
  },
  {
   "cell_type": "code",
   "execution_count": 7,
   "metadata": {},
   "outputs": [
    {
     "data": {
      "text/plain": [
       "[30, 50, 70, 100]"
      ]
     },
     "execution_count": 7,
     "metadata": {},
     "output_type": "execute_result"
    }
   ],
   "source": [
    "new_b = [val*10 for val in b]\n",
    "new_b"
   ]
  },
  {
   "cell_type": "code",
   "execution_count": 8,
   "metadata": {},
   "outputs": [
    {
     "data": {
      "text/plain": [
       "[100]"
      ]
     },
     "execution_count": 8,
     "metadata": {},
     "output_type": "execute_result"
    }
   ],
   "source": [
    "[val*10 for val in b if val%2==0]"
   ]
  },
  {
   "cell_type": "code",
   "execution_count": 25,
   "metadata": {},
   "outputs": [],
   "source": [
    "from time import sleep\n",
    "from tqdm import tqdm"
   ]
  },
  {
   "cell_type": "code",
   "execution_count": 26,
   "metadata": {},
   "outputs": [
    {
     "name": "stderr",
     "output_type": "stream",
     "text": [
      "100%|████████████████████████████████████████████████████████████████████████████████| 100/100 [00:06<00:00, 16.12it/s]\n"
     ]
    }
   ],
   "source": [
    "for i in tqdm(range(100)) :\n",
    "    sleep(.05)\n",
    "    i*3"
   ]
  },
  {
   "cell_type": "code",
   "execution_count": null,
   "metadata": {},
   "outputs": [],
   "source": [
    "output = []\n",
    "for each_url in tqdm(url_list) :\n",
    "    time.sleep(2)\n",
    "    output.append(scraper(each_url))  "
   ]
  },
  {
   "cell_type": "markdown",
   "metadata": {},
   "source": [
    "**주어진 숫자가 대칭인지 판별하는 함수를 만드시오**\n",
    "- 3 → True\n",
    "- 131 → True\n",
    "- 27872 → True\n",
    "- -35 → False\n",
    "- 700 → False\n",
    "- 93 → False"
   ]
  },
  {
   "cell_type": "code",
   "execution_count": 67,
   "metadata": {},
   "outputs": [
    {
     "name": "stdout",
     "output_type": "stream",
     "text": [
      "True\n",
      "False\n",
      "False\n",
      "True\n"
     ]
    }
   ],
   "source": [
    "x = 1311\n",
    "x_str = str(x)\n",
    "output_list = []\n",
    "for index in range(len(x_str)) :\n",
    "    if x_str[index]==x_str[-(index+1)] :\n",
    "        print(True)\n",
    "    else :\n",
    "        print(False)"
   ]
  },
  {
   "cell_type": "code",
   "execution_count": 70,
   "metadata": {},
   "outputs": [],
   "source": [
    "def str_palindrome_detector(x) :\n",
    "    x_str = str(x)\n",
    "    output_list = []\n",
    "    for index in range(len(x_str)) :\n",
    "        if x_str[index]==x_str[-(index+1)] :\n",
    "            output_list.append(1)            \n",
    "    if len(output_list)==len(x_str) :\n",
    "        output = True\n",
    "    else :\n",
    "        output = False\n",
    "        \n",
    "    return output"
   ]
  },
  {
   "cell_type": "code",
   "execution_count": 83,
   "metadata": {},
   "outputs": [],
   "source": [
    "def str_palindrome_detector(x) :\n",
    "    x_str = str(x)\n",
    "    b = 0\n",
    "    \n",
    "    for index in range(len(x_str)) :\n",
    "        if x_str[index]==x_str[-(index+1)] :\n",
    "            b += 1\n",
    "    \n",
    "    if b==len(x_str) :\n",
    "        output = True\n",
    "    else :\n",
    "        output = False\n",
    "    \n",
    "    return output"
   ]
  },
  {
   "cell_type": "code",
   "execution_count": 84,
   "metadata": {},
   "outputs": [
    {
     "data": {
      "text/plain": [
       "False"
      ]
     },
     "execution_count": 84,
     "metadata": {},
     "output_type": "execute_result"
    }
   ],
   "source": [
    "str_palindrome_detector(1332)"
   ]
  },
  {
   "cell_type": "code",
   "execution_count": 94,
   "metadata": {},
   "outputs": [],
   "source": [
    "def lenDigits(x): \n",
    "    if x < 10:\n",
    "        return 1\n",
    "    else :\n",
    "        return 1 + lenDigits(x / 10)"
   ]
  },
  {
   "cell_type": "code",
   "execution_count": 95,
   "metadata": {},
   "outputs": [],
   "source": [
    "def lenDigits(x): \n",
    "    if x < 10:\n",
    "        return 1\n",
    "    return 1 + lenDigits(x / 10)"
   ]
  },
  {
   "cell_type": "code",
   "execution_count": 93,
   "metadata": {},
   "outputs": [
    {
     "data": {
      "text/plain": [
       "True"
      ]
     },
     "execution_count": 93,
     "metadata": {},
     "output_type": "execute_result"
    }
   ],
   "source": [
    "lenDigits(300000)==len('300000')"
   ]
  },
  {
   "cell_type": "code",
   "execution_count": 97,
   "metadata": {},
   "outputs": [],
   "source": [
    "x = 3\n",
    "\n",
    "if type(x)==str :\n",
    "    print('It is String')"
   ]
  }
 ],
 "metadata": {
  "kernelspec": {
   "display_name": "Python 3",
   "language": "python",
   "name": "python3"
  },
  "language_info": {
   "codemirror_mode": {
    "name": "ipython",
    "version": 3
   },
   "file_extension": ".py",
   "mimetype": "text/x-python",
   "name": "python",
   "nbconvert_exporter": "python",
   "pygments_lexer": "ipython3",
   "version": "3.7.0"
  }
 },
 "nbformat": 4,
 "nbformat_minor": 4
}

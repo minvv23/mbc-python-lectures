{
 "cells": [
  {
   "cell_type": "markdown",
   "metadata": {},
   "source": [
    "**셀 사용법**  \n",
    "- Ctrl + Enter : 셀 실행  \n",
    "- Shift + Enter : 셀 실행 후 다음 셀로 이동  \n",
    "- Alt + Enter : 셀 실행 후 새 셀 다음에 생성"
   ]
  },
  {
   "cell_type": "code",
   "execution_count": 25,
   "metadata": {},
   "outputs": [
    {
     "data": {
      "text/plain": [
       "0.42857142857142855"
      ]
     },
     "execution_count": 25,
     "metadata": {},
     "output_type": "execute_result"
    }
   ],
   "source": [
    "3 + 7 #덧셈\n",
    "3 - 7 #뺄셈\n",
    "3 * 7 #곱셈\n",
    "3 / 7 #나눗셈"
   ]
  },
  {
   "cell_type": "code",
   "execution_count": 47,
   "metadata": {},
   "outputs": [],
   "source": [
    "cost = 100\n",
    "revenue = 3000\n",
    "\n",
    "profit = revenue - cost\n",
    "weird_num = 171.2/0.4"
   ]
  },
  {
   "cell_type": "markdown",
   "metadata": {},
   "source": [
    "**데이터 타입**\n",
    "- 정수(integer) : int\n",
    "- 실수(float) : 소수가 달려있는 숫자\n",
    "- 글자(string) : str\n",
    "- bool : True / False"
   ]
  },
  {
   "cell_type": "code",
   "execution_count": 62,
   "metadata": {},
   "outputs": [
    {
     "data": {
      "text/plain": [
       "3190.0000000000005"
      ]
     },
     "execution_count": 62,
     "metadata": {},
     "output_type": "execute_result"
    }
   ],
   "source": [
    "profit02 = profit*1.1\n",
    "profit02"
   ]
  },
  {
   "cell_type": "code",
   "execution_count": 77,
   "metadata": {},
   "outputs": [],
   "source": [
    "company_name = 'mbc'\n",
    "location_name = 'digital media city'\n",
    "y = '!!!!!'\n",
    "sentence = company_name + location_name + y"
   ]
  },
  {
   "cell_type": "code",
   "execution_count": 86,
   "metadata": {},
   "outputs": [
    {
     "data": {
      "text/plain": [
       "'mbcdigital media city!!!!!13124gddsfsdf'"
      ]
     },
     "execution_count": 86,
     "metadata": {},
     "output_type": "execute_result"
    }
   ],
   "source": [
    "korea = '13124gddsfsdf'\n",
    "sentence + korea"
   ]
  },
  {
   "cell_type": "code",
   "execution_count": 138,
   "metadata": {},
   "outputs": [],
   "source": [
    "b = {'birth':1995,\n",
    "     'name':'taeyoung',\n",
    "     'height':171}\n",
    "c = {'birth':1994, 'name':'IU', 'height':158}\n",
    "\n",
    "profile_list = [b, c]"
   ]
  },
  {
   "cell_type": "code",
   "execution_count": 163,
   "metadata": {},
   "outputs": [
    {
     "data": {
      "text/plain": [
       "[18]"
      ]
     },
     "execution_count": 163,
     "metadata": {},
     "output_type": "execute_result"
    }
   ],
   "source": [
    "x = [1, 3, 5, 8, 9]\n",
    "\n",
    "for i in x :\n",
    "    doubled_x = []\n",
    "    doubled_x.append(i*2)\n",
    "    \n",
    "doubled_x"
   ]
  },
  {
   "cell_type": "code",
   "execution_count": 174,
   "metadata": {},
   "outputs": [
    {
     "name": "stdout",
     "output_type": "stream",
     "text": [
      "    O\n",
      "   OO\n",
      "  OOO\n",
      " OOOO\n",
      "OOOOO\n"
     ]
    }
   ],
   "source": [
    "for a in range(1,6) :\n",
    "    print(' '*(5-a)+'O'*a)"
   ]
  }
 ],
 "metadata": {
  "kernelspec": {
   "display_name": "Python 3",
   "language": "python",
   "name": "python3"
  },
  "language_info": {
   "codemirror_mode": {
    "name": "ipython",
    "version": 3
   },
   "file_extension": ".py",
   "mimetype": "text/x-python",
   "name": "python",
   "nbconvert_exporter": "python",
   "pygments_lexer": "ipython3",
   "version": "3.7.0"
  }
 },
 "nbformat": 4,
 "nbformat_minor": 4
}

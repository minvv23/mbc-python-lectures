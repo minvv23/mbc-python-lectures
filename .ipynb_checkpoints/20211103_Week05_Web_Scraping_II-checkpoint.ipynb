{
 "cells": [
  {
   "cell_type": "markdown",
   "metadata": {
    "colab_type": "text",
    "id": "mT0lKEp_hyqT",
    "tags": []
   },
   "source": [
    "## Week 05 : 웹 크롤링 II"
   ]
  },
  {
   "cell_type": "code",
   "execution_count": 3,
   "metadata": {},
   "outputs": [],
   "source": [
    "import re\n",
    "import pandas as pd\n",
    "import numpy as np\n",
    "import json\n",
    "import time\n",
    "from datetime import datetime, timedelta\n",
    "\n",
    "import requests\n",
    "from bs4 import BeautifulSoup\n",
    "from tqdm import tqdm\n",
    "from collections import Counter\n",
    "from itertools import chain\n",
    "from operator import itemgetter\n",
    "\n",
    "basic_header = {'User-Agent':'Mozilla/5.0 (Windows NT 10.0; Win64; x64) AppleWebKit/537.36 (KHTML, like Gecko) Chrome/83.0.4103.61 Safari/537.36',\n",
    "                \"Accept\":\"text/html,application/xhtml+xml,application/xml;\\q=0.9,imgwebp,*/*;q=0.8\"}            "
   ]
  },
  {
   "cell_type": "code",
   "execution_count": 4,
   "metadata": {},
   "outputs": [],
   "source": [
    "def url_to_soup(input_url) :\n",
    "    session = requests.Session()\n",
    "    req = session.get(input_url, headers=basic_header, allow_redirects=True)\n",
    "    soup = BeautifulSoup(req.text, 'lxml')\n",
    "    return soup\n",
    "\n",
    "soup = url_to_soup('http://underscore.kr/')"
   ]
  },
  {
   "cell_type": "code",
   "execution_count": 5,
   "metadata": {},
   "outputs": [
    {
     "name": "stdout",
     "output_type": "stream",
     "text": [
      "http://underscore.kr/istrollingcontagious/\n",
      "http://underscore.kr/politaku/\n",
      "http://underscore.kr/genderindanger/\n",
      "http://underscore.kr/goodhigschoolanduniv/\n",
      "http://underscore.kr/hotweatherkillspeople/\n",
      "http://underscore.kr/arenoobsmoreconfident/\n"
     ]
    }
   ],
   "source": [
    "for h2 in soup.find_all('h2') :\n",
    "    print(h2.a['href'])"
   ]
  },
  {
   "cell_type": "code",
   "execution_count": 6,
   "metadata": {},
   "outputs": [],
   "source": [
    "title_list = [each.a.text for each in soup.find_all('h2')]\n",
    "suburl_list = [each.a['href'] for each in soup.find_all('h2')]\n",
    "\n",
    "underscoredf = pd.DataFrame(zip(title_list, suburl_list), columns=['title', 'url'])\n",
    "\n",
    "underscoredf['len_title'] = underscoredf['title'].str.len()\n",
    "underscoredf['len_url'] = underscoredf['url'].str.len()\n",
    "underscoredf['source'] = 'underscore'\n",
    "underscoredf['digit_len_title'] = underscoredf['len_title'].astype(str).str.len()\n",
    "underscoredf['doubled_len_title'] = underscoredf['len_title']*2"
   ]
  },
  {
   "cell_type": "code",
   "execution_count": 7,
   "metadata": {},
   "outputs": [],
   "source": [
    "predatesoup = soup.find_all('span', {'class':'posted-on'})\n",
    "date_list = []\n",
    "for each in predatesoup :\n",
    "    date_list.append(each.find_all('time')[-1]['datetime'])"
   ]
  },
  {
   "cell_type": "code",
   "execution_count": 8,
   "metadata": {},
   "outputs": [],
   "source": [
    "predatesoup = soup.find_all('span', {'class':'posted-on'})\n",
    "date_list = [each.find_all('time')[-1]['datetime'] for each in predatesoup]"
   ]
  },
  {
   "cell_type": "code",
   "execution_count": 9,
   "metadata": {},
   "outputs": [
    {
     "data": {
      "text/html": [
       "<div>\n",
       "<style scoped>\n",
       "    .dataframe tbody tr th:only-of-type {\n",
       "        vertical-align: middle;\n",
       "    }\n",
       "\n",
       "    .dataframe tbody tr th {\n",
       "        vertical-align: top;\n",
       "    }\n",
       "\n",
       "    .dataframe thead th {\n",
       "        text-align: right;\n",
       "    }\n",
       "</style>\n",
       "<table border=\"1\" class=\"dataframe\">\n",
       "  <thead>\n",
       "    <tr style=\"text-align: right;\">\n",
       "      <th></th>\n",
       "      <th>title</th>\n",
       "      <th>url</th>\n",
       "      <th>time</th>\n",
       "    </tr>\n",
       "  </thead>\n",
       "  <tbody>\n",
       "    <tr>\n",
       "      <th>0</th>\n",
       "      <td>왜 자꾸 어그로를 끄는 거야!</td>\n",
       "      <td>http://underscore.kr/istrollingcontagious/</td>\n",
       "      <td>2018-09-28T19:30:42+00:00</td>\n",
       "    </tr>\n",
       "    <tr>\n",
       "      <th>1</th>\n",
       "      <td>페이스북으로 ‘정잘알’이 될 수 있을까?</td>\n",
       "      <td>http://underscore.kr/politaku/</td>\n",
       "      <td>2018-09-16T00:20:45+00:00</td>\n",
       "    </tr>\n",
       "    <tr>\n",
       "      <th>2</th>\n",
       "      <td>당신은 남자답지 않습니다</td>\n",
       "      <td>http://underscore.kr/genderindanger/</td>\n",
       "      <td>2018-09-08T23:59:15+00:00</td>\n",
       "    </tr>\n",
       "    <tr>\n",
       "      <th>3</th>\n",
       "      <td>좋은 고등학교를 가면 대학 입시에서 유리할까?</td>\n",
       "      <td>http://underscore.kr/goodhigschoolanduniv/</td>\n",
       "      <td>2018-08-28T20:01:48+00:00</td>\n",
       "    </tr>\n",
       "    <tr>\n",
       "      <th>4</th>\n",
       "      <td>덥다, 더워! 데이터가 알려주는 더위와 자살률의 관계</td>\n",
       "      <td>http://underscore.kr/hotweatherkillspeople/</td>\n",
       "      <td>2018-08-13T20:53:25+00:00</td>\n",
       "    </tr>\n",
       "    <tr>\n",
       "      <th>5</th>\n",
       "      <td>진짜로 잘 모르는 사람이 더 용감할까?</td>\n",
       "      <td>http://underscore.kr/arenoobsmoreconfident/</td>\n",
       "      <td>2018-08-02T18:18:07+00:00</td>\n",
       "    </tr>\n",
       "  </tbody>\n",
       "</table>\n",
       "</div>"
      ],
      "text/plain": [
       "                           title                                          url  \\\n",
       "0               왜 자꾸 어그로를 끄는 거야!   http://underscore.kr/istrollingcontagious/   \n",
       "1         페이스북으로 ‘정잘알’이 될 수 있을까?               http://underscore.kr/politaku/   \n",
       "2                  당신은 남자답지 않습니다         http://underscore.kr/genderindanger/   \n",
       "3      좋은 고등학교를 가면 대학 입시에서 유리할까?   http://underscore.kr/goodhigschoolanduniv/   \n",
       "4  덥다, 더워! 데이터가 알려주는 더위와 자살률의 관계  http://underscore.kr/hotweatherkillspeople/   \n",
       "5          진짜로 잘 모르는 사람이 더 용감할까?  http://underscore.kr/arenoobsmoreconfident/   \n",
       "\n",
       "                        time  \n",
       "0  2018-09-28T19:30:42+00:00  \n",
       "1  2018-09-16T00:20:45+00:00  \n",
       "2  2018-09-08T23:59:15+00:00  \n",
       "3  2018-08-28T20:01:48+00:00  \n",
       "4  2018-08-13T20:53:25+00:00  \n",
       "5  2018-08-02T18:18:07+00:00  "
      ]
     },
     "execution_count": 9,
     "metadata": {},
     "output_type": "execute_result"
    }
   ],
   "source": [
    "underscoredf = \\\n",
    "pd.DataFrame(zip(title_list, suburl_list, date_list), columns=['title', 'url', 'time'])\n",
    "underscoredf"
   ]
  },
  {
   "cell_type": "code",
   "execution_count": 10,
   "metadata": {},
   "outputs": [
    {
     "name": "stderr",
     "output_type": "stream",
     "text": [
      "100%|████████████████████████████████████████████████████████████████████████████████████| 6/6 [00:08<00:00,  1.40s/it]\n"
     ]
    }
   ],
   "source": [
    "tag_list = []\n",
    "for each_url in tqdm(underscoredf['url']) :\n",
    "    time.sleep(1)\n",
    "    cnsoup = url_to_soup(each_url)\n",
    "    tag_list.append([a.text for a in cnsoup.find('span', {'class':'tags-links'}).find_all('a')])"
   ]
  },
  {
   "cell_type": "code",
   "execution_count": 15,
   "metadata": {},
   "outputs": [],
   "source": [
    "# 언더스코어 페이지 데이터프레임 최종 생성\n",
    "underscoredf = \\\n",
    "pd.DataFrame(zip(title_list, suburl_list, date_list, tag_list), columns=['title', 'url', 'date', 'tag'])"
   ]
  },
  {
   "cell_type": "code",
   "execution_count": null,
   "metadata": {},
   "outputs": [],
   "source": []
  },
  {
   "cell_type": "code",
   "execution_count": 11,
   "metadata": {},
   "outputs": [],
   "source": [
    "mainsoup = url_to_soup('https://imnews.imbc.com/pc_main.html')\n",
    "\n",
    "mbc_title_list = []\n",
    "mbc_url_list = []\n",
    "mbc_writer_list = []\n",
    "\n",
    "for li in mainsoup.find_all('li', {'class':'ellipsis'}) :\n",
    "    mbc_url_list.append(li.a['href'])\n",
    "    mbc_title_list.append(li.a.text)\n",
    "    \n",
    "for article_url in mbc_url_list :\n",
    "    time.sleep(.7)\n",
    "    article_soup = url_to_soup(article_url)\n",
    "    mbc_writer_list.append(article_soup.find('span', {'class':'writer'}).text)  "
   ]
  },
  {
   "cell_type": "code",
   "execution_count": 12,
   "metadata": {},
   "outputs": [
    {
     "data": {
      "text/html": [
       "<div>\n",
       "<style scoped>\n",
       "    .dataframe tbody tr th:only-of-type {\n",
       "        vertical-align: middle;\n",
       "    }\n",
       "\n",
       "    .dataframe tbody tr th {\n",
       "        vertical-align: top;\n",
       "    }\n",
       "\n",
       "    .dataframe thead th {\n",
       "        text-align: right;\n",
       "    }\n",
       "</style>\n",
       "<table border=\"1\" class=\"dataframe\">\n",
       "  <thead>\n",
       "    <tr style=\"text-align: right;\">\n",
       "      <th></th>\n",
       "      <th>0</th>\n",
       "      <th>1</th>\n",
       "      <th>2</th>\n",
       "    </tr>\n",
       "  </thead>\n",
       "  <tbody>\n",
       "    <tr>\n",
       "      <th>0</th>\n",
       "      <td>정정용호·박항서호, FIFA 선정 '2019년 가장 놀라운 팀'</td>\n",
       "      <td>https://imnews.imbc.com/news/2019/sports/artic...</td>\n",
       "      <td>박주린</td>\n",
       "    </tr>\n",
       "    <tr>\n",
       "      <th>1</th>\n",
       "      <td>'연봉 14억원' 김진수, 프로축구 K리그 국내 선수 '연봉킹'</td>\n",
       "      <td>https://imnews.imbc.com/news/2019/sports/artic...</td>\n",
       "      <td>박주린</td>\n",
       "    </tr>\n",
       "    <tr>\n",
       "      <th>2</th>\n",
       "      <td>[EPL] '마네 결승골' 리버풀, 울버햄프턴 꺾고 19경기 무패 선두</td>\n",
       "      <td>https://imnews.imbc.com/news/2019/sports/artic...</td>\n",
       "      <td>박주린</td>\n",
       "    </tr>\n",
       "    <tr>\n",
       "      <th>3</th>\n",
       "      <td>백승호·이강인, 김학범호 합류 '불발'…윤종규 발탁</td>\n",
       "      <td>https://imnews.imbc.com/news/2019/sports/artic...</td>\n",
       "      <td>박주린</td>\n",
       "    </tr>\n",
       "    <tr>\n",
       "      <th>4</th>\n",
       "      <td>손흥민, 토트넘 2010년대 '최고의 골' 후보에 최다 4골 올려</td>\n",
       "      <td>https://imnews.imbc.com/news/2019/sports/artic...</td>\n",
       "      <td>박주린</td>\n",
       "    </tr>\n",
       "    <tr>\n",
       "      <th>5</th>\n",
       "      <td>전국 곳곳에서 성탄 미사·예배…\"자비와 은총을\"</td>\n",
       "      <td>https://imnews.imbc.com/news/2019/culture/arti...</td>\n",
       "      <td>양효경</td>\n",
       "    </tr>\n",
       "    <tr>\n",
       "      <th>6</th>\n",
       "      <td>5천년전 밀양 토기서 옻 확인…\"국내 최고 사례\"</td>\n",
       "      <td>https://imnews.imbc.com/news/2019/culture/arti...</td>\n",
       "      <td>양효경</td>\n",
       "    </tr>\n",
       "    <tr>\n",
       "      <th>7</th>\n",
       "      <td>문화재 해외 불법 반출 음모 처벌 강화…벌금형 삭제</td>\n",
       "      <td>https://imnews.imbc.com/news/2019/culture/arti...</td>\n",
       "      <td>양효경</td>\n",
       "    </tr>\n",
       "    <tr>\n",
       "      <th>8</th>\n",
       "      <td>'고바우 영감' 김성환 화백 금관문화훈장</td>\n",
       "      <td>https://imnews.imbc.com/news/2019/culture/arti...</td>\n",
       "      <td>양효경</td>\n",
       "    </tr>\n",
       "    <tr>\n",
       "      <th>9</th>\n",
       "      <td>'한국의 탈춤', 내년 유네스코 인류무형문화유산 등재 도전</td>\n",
       "      <td>https://imnews.imbc.com/news/2019/culture/arti...</td>\n",
       "      <td>박소희</td>\n",
       "    </tr>\n",
       "  </tbody>\n",
       "</table>\n",
       "</div>"
      ],
      "text/plain": [
       "                                         0  \\\n",
       "0      정정용호·박항서호, FIFA 선정 '2019년 가장 놀라운 팀'   \n",
       "1     '연봉 14억원' 김진수, 프로축구 K리그 국내 선수 '연봉킹'    \n",
       "2  [EPL] '마네 결승골' 리버풀, 울버햄프턴 꺾고 19경기 무패 선두   \n",
       "3             백승호·이강인, 김학범호 합류 '불발'…윤종규 발탁   \n",
       "4    손흥민, 토트넘 2010년대 '최고의 골' 후보에 최다 4골 올려    \n",
       "5               전국 곳곳에서 성탄 미사·예배…\"자비와 은총을\"   \n",
       "6              5천년전 밀양 토기서 옻 확인…\"국내 최고 사례\"   \n",
       "7             문화재 해외 불법 반출 음모 처벌 강화…벌금형 삭제   \n",
       "8                   '고바우 영감' 김성환 화백 금관문화훈장   \n",
       "9         '한국의 탈춤', 내년 유네스코 인류무형문화유산 등재 도전   \n",
       "\n",
       "                                                   1    2  \n",
       "0  https://imnews.imbc.com/news/2019/sports/artic...  박주린  \n",
       "1  https://imnews.imbc.com/news/2019/sports/artic...  박주린  \n",
       "2  https://imnews.imbc.com/news/2019/sports/artic...  박주린  \n",
       "3  https://imnews.imbc.com/news/2019/sports/artic...  박주린  \n",
       "4  https://imnews.imbc.com/news/2019/sports/artic...  박주린  \n",
       "5  https://imnews.imbc.com/news/2019/culture/arti...  양효경  \n",
       "6  https://imnews.imbc.com/news/2019/culture/arti...  양효경  \n",
       "7  https://imnews.imbc.com/news/2019/culture/arti...  양효경  \n",
       "8  https://imnews.imbc.com/news/2019/culture/arti...  양효경  \n",
       "9  https://imnews.imbc.com/news/2019/culture/arti...  박소희  "
      ]
     },
     "execution_count": 12,
     "metadata": {},
     "output_type": "execute_result"
    }
   ],
   "source": [
    "pd.DataFrame(zip(mbc_title_list, mbc_url_list, mbc_writer_list))"
   ]
  },
  {
   "cell_type": "code",
   "execution_count": null,
   "metadata": {},
   "outputs": [],
   "source": []
  }
 ],
 "metadata": {
  "kernelspec": {
   "display_name": "Python 3",
   "language": "python",
   "name": "python3"
  },
  "language_info": {
   "codemirror_mode": {
    "name": "ipython",
    "version": 3
   },
   "file_extension": ".py",
   "mimetype": "text/x-python",
   "name": "python",
   "nbconvert_exporter": "python",
   "pygments_lexer": "ipython3",
   "version": "3.7.0"
  }
 },
 "nbformat": 4,
 "nbformat_minor": 4
}

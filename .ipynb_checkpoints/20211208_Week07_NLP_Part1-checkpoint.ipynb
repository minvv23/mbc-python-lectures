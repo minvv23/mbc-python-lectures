{
 "cells": [
  {
   "cell_type": "code",
   "execution_count": 1,
   "metadata": {},
   "outputs": [],
   "source": [
    "import numpy as np\n",
    "import pandas as pd\n",
    "import tokenizers # 토큰화(tokenization)\n",
    "import gensim # 임베딩(embedding) : 토큰을 숫자(벡터/좌표)로 변환"
   ]
  },
  {
   "cell_type": "code",
   "execution_count": 2,
   "metadata": {},
   "outputs": [],
   "source": [
    "np.random.seed(0)\n",
    "moviedf = pd.read_csv('./data/naver_movie.csv', index_col=0).sample(500)\n",
    "shoppingdf = pd.read_csv('./data/naver_shopping.csv', index_col=0).sample(500)\n",
    "beepdf = pd.read_csv('./data/beep_dataset.csv', index_col=0).sample(500)\n",
    "jobplanetdf = pd.read_csv('./data/jobplanet_review.csv', index_col=0)\n",
    "\n",
    "moviedf.columns = ['text', 'label']\n",
    "shoppingdf.columns = ['text', 'label']"
   ]
  },
  {
   "cell_type": "code",
   "execution_count": 3,
   "metadata": {},
   "outputs": [],
   "source": [
    "textdf =\\\n",
    "pd.concat([moviedf, shoppingdf, beepdf,\n",
    "           jobplanetdf[jobplanetdf['label']==1][['good', 'label']].rename({'good':'text'}, axis=1),\n",
    "           jobplanetdf[jobplanetdf['label']==0][['bad', 'label']].rename({'bad':'text'}, axis=1)],\n",
    "          axis=0, ignore_index=True)\n",
    "textdf['label'] = textdf['label'].replace({0:1, 1:0})"
   ]
  },
  {
   "cell_type": "code",
   "execution_count": 13,
   "metadata": {},
   "outputs": [
    {
     "data": {
      "text/plain": [
       "0.543472260557549"
      ]
     },
     "execution_count": 13,
     "metadata": {},
     "output_type": "execute_result"
    }
   ],
   "source": [
    "bad_words = ['나쁜', '구린', '썩은', '별로', '최악', '끔찍', '지루', '잠', '환불', '늑장', '늦장', '꼰대', '정치질', '하향']\n",
    "textdf['pred'] = textdf['text'].str.contains('|'.join(bad_words)).astype(int)\n",
    "textdf['correct'] = (textdf['label']==textdf['pred']).astype(int)\n",
    "np.mean(textdf['correct'])"
   ]
  },
  {
   "cell_type": "code",
   "execution_count": 14,
   "metadata": {},
   "outputs": [
    {
     "data": {
      "text/html": [
       "<div>\n",
       "<style scoped>\n",
       "    .dataframe tbody tr th:only-of-type {\n",
       "        vertical-align: middle;\n",
       "    }\n",
       "\n",
       "    .dataframe tbody tr th {\n",
       "        vertical-align: top;\n",
       "    }\n",
       "\n",
       "    .dataframe thead th {\n",
       "        text-align: right;\n",
       "    }\n",
       "</style>\n",
       "<table border=\"1\" class=\"dataframe\">\n",
       "  <thead>\n",
       "    <tr style=\"text-align: right;\">\n",
       "      <th></th>\n",
       "      <th>text</th>\n",
       "      <th>label</th>\n",
       "      <th>pred</th>\n",
       "      <th>correct</th>\n",
       "    </tr>\n",
       "  </thead>\n",
       "  <tbody>\n",
       "    <tr>\n",
       "      <th>0</th>\n",
       "      <td>가르시아를 알게 해준 영화..마지막 장면도 인상적이였다..결국 친구 하나때문에 멀쩡...</td>\n",
       "      <td>0</td>\n",
       "      <td>0</td>\n",
       "      <td>1</td>\n",
       "    </tr>\n",
       "    <tr>\n",
       "      <th>1</th>\n",
       "      <td>이영화를보면서 아프겠다라는생각이들엇다 ㅋㅋ재밋게봤다 결말은훈훈ㅋㅋㅋㅋ</td>\n",
       "      <td>0</td>\n",
       "      <td>0</td>\n",
       "      <td>1</td>\n",
       "    </tr>\n",
       "    <tr>\n",
       "      <th>2</th>\n",
       "      <td>이 영화를 보고 암이 나았다.</td>\n",
       "      <td>0</td>\n",
       "      <td>0</td>\n",
       "      <td>1</td>\n",
       "    </tr>\n",
       "    <tr>\n",
       "      <th>3</th>\n",
       "      <td>민들레부모가 전하는 아가페적인사랑...가슴으로 낳은 행복의씨앗</td>\n",
       "      <td>0</td>\n",
       "      <td>0</td>\n",
       "      <td>1</td>\n",
       "    </tr>\n",
       "    <tr>\n",
       "      <th>4</th>\n",
       "      <td>어린이집 재롱잔치를 만원주고 보는 기분이라면</td>\n",
       "      <td>1</td>\n",
       "      <td>0</td>\n",
       "      <td>0</td>\n",
       "    </tr>\n",
       "    <tr>\n",
       "      <th>...</th>\n",
       "      <td>...</td>\n",
       "      <td>...</td>\n",
       "      <td>...</td>\n",
       "      <td>...</td>\n",
       "    </tr>\n",
       "    <tr>\n",
       "      <th>3618</th>\n",
       "      <td>후퇴한 기업문화연봉.복지지속적인 구조조정내부인맥 통한 입사자 및 정치</td>\n",
       "      <td>1</td>\n",
       "      <td>0</td>\n",
       "      <td>0</td>\n",
       "    </tr>\n",
       "    <tr>\n",
       "      <th>3619</th>\n",
       "      <td>회의 많음.  야근수당 없음. 실제 주말 근무 및 주 100시간 이상 근무를 해도 ...</td>\n",
       "      <td>1</td>\n",
       "      <td>0</td>\n",
       "      <td>0</td>\n",
       "    </tr>\n",
       "    <tr>\n",
       "      <th>3620</th>\n",
       "      <td>보고를 위한 보고를 함 복지은 줄고 연봉은 동결 임원들의 임원만 펌핑중</td>\n",
       "      <td>1</td>\n",
       "      <td>0</td>\n",
       "      <td>0</td>\n",
       "    </tr>\n",
       "    <tr>\n",
       "      <th>3621</th>\n",
       "      <td>어떤 LE를 만나느냐에 따라 삶의 질이 크게 달라짐, ACM같은 하는 사람들도 왜 ...</td>\n",
       "      <td>1</td>\n",
       "      <td>0</td>\n",
       "      <td>0</td>\n",
       "    </tr>\n",
       "    <tr>\n",
       "      <th>3622</th>\n",
       "      <td>정기적 해외 근무. 또는 반강제 시공으로 직무 전환에 따른 의도치 않은 장기 해외 ...</td>\n",
       "      <td>1</td>\n",
       "      <td>0</td>\n",
       "      <td>0</td>\n",
       "    </tr>\n",
       "  </tbody>\n",
       "</table>\n",
       "<p>3623 rows × 4 columns</p>\n",
       "</div>"
      ],
      "text/plain": [
       "                                                   text  label  pred  correct\n",
       "0     가르시아를 알게 해준 영화..마지막 장면도 인상적이였다..결국 친구 하나때문에 멀쩡...      0     0        1\n",
       "1                이영화를보면서 아프겠다라는생각이들엇다 ㅋㅋ재밋게봤다 결말은훈훈ㅋㅋㅋㅋ      0     0        1\n",
       "2                                      이 영화를 보고 암이 나았다.      0     0        1\n",
       "3                    민들레부모가 전하는 아가페적인사랑...가슴으로 낳은 행복의씨앗      0     0        1\n",
       "4                              어린이집 재롱잔치를 만원주고 보는 기분이라면      1     0        0\n",
       "...                                                 ...    ...   ...      ...\n",
       "3618             후퇴한 기업문화연봉.복지지속적인 구조조정내부인맥 통한 입사자 및 정치      1     0        0\n",
       "3619  회의 많음.  야근수당 없음. 실제 주말 근무 및 주 100시간 이상 근무를 해도 ...      1     0        0\n",
       "3620            보고를 위한 보고를 함 복지은 줄고 연봉은 동결 임원들의 임원만 펌핑중      1     0        0\n",
       "3621  어떤 LE를 만나느냐에 따라 삶의 질이 크게 달라짐, ACM같은 하는 사람들도 왜 ...      1     0        0\n",
       "3622  정기적 해외 근무. 또는 반강제 시공으로 직무 전환에 따른 의도치 않은 장기 해외 ...      1     0        0\n",
       "\n",
       "[3623 rows x 4 columns]"
      ]
     },
     "execution_count": 14,
     "metadata": {},
     "output_type": "execute_result"
    }
   ],
   "source": [
    "textdf"
   ]
  }
 ],
 "metadata": {
  "kernelspec": {
   "display_name": "Python 3",
   "language": "python",
   "name": "python3"
  },
  "language_info": {
   "codemirror_mode": {
    "name": "ipython",
    "version": 3
   },
   "file_extension": ".py",
   "mimetype": "text/x-python",
   "name": "python",
   "nbconvert_exporter": "python",
   "pygments_lexer": "ipython3",
   "version": "3.7.0"
  }
 },
 "nbformat": 4,
 "nbformat_minor": 4
}

{
 "cells": [
  {
   "cell_type": "markdown",
   "metadata": {
    "colab_type": "text",
    "id": "mT0lKEp_hyqT",
    "tags": []
   },
   "source": [
    "## Week 04 : 웹 크롤링 I"
   ]
  },
  {
   "cell_type": "code",
   "execution_count": 1,
   "metadata": {},
   "outputs": [],
   "source": [
    "import re\n",
    "import pandas as pd\n",
    "import numpy as np\n",
    "import json\n",
    "import time\n",
    "from datetime import datetime, timedelta\n",
    "\n",
    "import requests\n",
    "from bs4 import BeautifulSoup\n",
    "from tqdm import tqdm\n",
    "from collections import Counter\n",
    "from itertools import chain\n",
    "from operator import itemgetter"
   ]
  },
  {
   "cell_type": "markdown",
   "metadata": {},
   "source": [
    "**크롤링을 시작할 때...**\n",
    "- basic_header : python으로 접속한 것이 들키지(?) 않기 위해 사용. 직접 dictionary로 입력.\n",
    "- session = requests.Session() : 크롤링을 맨 처음에 시작할 때 선언\n",
    "- req = session.get(url, headers=basic_header, allow_redirects=True) : 만약 웹 사이트를 제대로 호출했다면 req 값이 200으로 나옴. 300대 번호의 경우 권한 부족, 400대 번호의 경우 주소가 없거나 서버 문제 발생\n",
    "- soup = BeautifulSoup(req.text, 'lxml') : 웹브라우저 F12창에 나온 코드처럼 들여쓰기(indenting)까지 포함해서 예쁘게 + 가공하기 쉽게 req.text에 나온 HTML을 변환해줌."
   ]
  },
  {
   "cell_type": "code",
   "execution_count": 2,
   "metadata": {},
   "outputs": [],
   "source": [
    "basic_header = {\"User-Agent\":\"Mozilla/5.0 (Macintosh; Intel Mac OS X 10_9_5)\\AppleWebKit 537.36 (KHTML, like Gecko) Chrome\",\n",
    "                \"Accept\":\"text/html,application/xhtml+xml,application/xml;\\q=0.9,imgwebp,*/*;q=0.8\"}\n",
    "\n",
    "url = 'http://underscore.kr/'\n",
    "\n",
    "session = requests.Session()\n",
    "req = session.get(url, headers=basic_header, allow_redirects=True)\n",
    "soup = BeautifulSoup(req.text, 'lxml')"
   ]
  },
  {
   "cell_type": "markdown",
   "metadata": {},
   "source": [
    "**\\<p id='login'>로그인<\\/p>**\n",
    "- p : 태그(tag)\n",
    "- id : 속성(attribute)\n",
    "- 'login' : 속성값(arguments)"
   ]
  },
  {
   "cell_type": "markdown",
   "metadata": {},
   "source": [
    "**BeautifulSoup 기초 사용법**\n",
    "- **soup.find(태그, {속성:속성값})**\n",
    "- soup.find('example') : example이라는 tag 중 맨 위 첫 번째 soup element를 찾음\n",
    "- soup.find('example', {'x':'abc'}) : example이라는 tag에서 x라는 속성의 값이 abc인 맨 위 첫 번째 soup element를 찾음\n",
    "- soup.find_all('example') : example이라는 tag를 갖고 있는 모든 soup element를 찾아서 list 형태로 반환\n",
    "- soup element에서 '안에 있는 다른 tag'로 타고 들어갈 때는 **마침표(.)안에있는tag이름**을 사용\n",
    "- soup element에서 속성값을 찾을 때에는 dictionary index 주듯이 속성명을 입력함"
   ]
  },
  {
   "cell_type": "code",
   "execution_count": 3,
   "metadata": {},
   "outputs": [
    {
     "data": {
      "text/plain": [
       "<h2 class=\"title-post entry-title\"><a href=\"http://underscore.kr/istrollingcontagious/\" rel=\"bookmark\">왜 자꾸 어그로를 끄는 거야!</a></h2>"
      ]
     },
     "execution_count": 3,
     "metadata": {},
     "output_type": "execute_result"
    }
   ],
   "source": [
    "soup.find('h2')"
   ]
  },
  {
   "cell_type": "code",
   "execution_count": 4,
   "metadata": {},
   "outputs": [
    {
     "data": {
      "text/plain": [
       "<h2 class=\"title-post entry-title\"><a href=\"http://underscore.kr/istrollingcontagious/\" rel=\"bookmark\">왜 자꾸 어그로를 끄는 거야!</a></h2>"
      ]
     },
     "execution_count": 4,
     "metadata": {},
     "output_type": "execute_result"
    }
   ],
   "source": [
    "soup.find('h2', {'class':'title-post entry-title'})"
   ]
  },
  {
   "cell_type": "code",
   "execution_count": 5,
   "metadata": {},
   "outputs": [
    {
     "data": {
      "text/plain": [
       "<a href=\"http://underscore.kr/istrollingcontagious/\" rel=\"bookmark\">왜 자꾸 어그로를 끄는 거야!</a>"
      ]
     },
     "execution_count": 5,
     "metadata": {},
     "output_type": "execute_result"
    }
   ],
   "source": [
    "soup.find('h2').a"
   ]
  },
  {
   "cell_type": "code",
   "execution_count": 6,
   "metadata": {},
   "outputs": [
    {
     "data": {
      "text/plain": [
       "'http://underscore.kr/istrollingcontagious/'"
      ]
     },
     "execution_count": 6,
     "metadata": {},
     "output_type": "execute_result"
    }
   ],
   "source": [
    "soup.find('h2').a['href']"
   ]
  },
  {
   "cell_type": "code",
   "execution_count": 7,
   "metadata": {},
   "outputs": [
    {
     "data": {
      "text/plain": [
       "[<h2 class=\"title-post entry-title\"><a href=\"http://underscore.kr/istrollingcontagious/\" rel=\"bookmark\">왜 자꾸 어그로를 끄는 거야!</a></h2>,\n",
       " <h2 class=\"title-post entry-title\"><a href=\"http://underscore.kr/politaku/\" rel=\"bookmark\">페이스북으로 ‘정잘알’이 될 수 있을까?</a></h2>,\n",
       " <h2 class=\"title-post entry-title\"><a href=\"http://underscore.kr/genderindanger/\" rel=\"bookmark\">당신은 남자답지 않습니다</a></h2>,\n",
       " <h2 class=\"title-post entry-title\"><a href=\"http://underscore.kr/goodhigschoolanduniv/\" rel=\"bookmark\">좋은 고등학교를 가면 대학 입시에서 유리할까?</a></h2>,\n",
       " <h2 class=\"title-post entry-title\"><a href=\"http://underscore.kr/hotweatherkillspeople/\" rel=\"bookmark\">덥다, 더워! 데이터가 알려주는 더위와 자살률의 관계</a></h2>,\n",
       " <h2 class=\"title-post entry-title\"><a href=\"http://underscore.kr/arenoobsmoreconfident/\" rel=\"bookmark\">진짜로 잘 모르는 사람이 더 용감할까?</a></h2>]"
      ]
     },
     "execution_count": 7,
     "metadata": {},
     "output_type": "execute_result"
    }
   ],
   "source": [
    "soup.find_all('h2')"
   ]
  },
  {
   "cell_type": "code",
   "execution_count": 8,
   "metadata": {},
   "outputs": [],
   "source": [
    "# 방식 1 : 일반적인 for문\n",
    "title_list = []\n",
    "suburl_list = []\n",
    "for each in soup.find_all('h2') :\n",
    "    title_list.append(each.a.text)\n",
    "    suburl_list.append(each.a['href'])\n",
    "\n",
    "# 방식 2 : List Comprehension을 사용해서 한 줄로 처리\n",
    "title_list = [each.a.text for each in soup.find_all('h2')]\n",
    "suburl_list = [each.a['href'] for each in soup.find_all('h2')]"
   ]
  },
  {
   "cell_type": "markdown",
   "metadata": {},
   "source": [
    "**Pandas 사용법**\n",
    "- pd.DataFrame(zip(x,y,z), columns=['a', 'b', 'c']) : x, y, z라는 list를 묶어서(zip) 각각을 변수(variable/column)로 하는 pandas DataFrame으로 만들어주며, 이 때 변수명은 앞에서부터 순서대로 'a', 'b', 'c'로 설정\n",
    "- 특정 변수/행 선택은 \"데이터프레임이름[변수명]\"\n",
    "- 여러 개의 변수/행 선택은 index에 list형태로 넣어줌. \"데이터프레임이름[[변수명1, 변수명2]]\"\n",
    "- 각각의 변수의 data type은 pandas.Series이며, 이는 list와 달리 직접적으로 연산을 적용해 볼 수 있음\n",
    "- 글자(string)에 적용할 수 있는 함수의 경우 \"데이터프레임이름[변수명].str.함수명\"의 형태로 직접 적용해줄 수 있음"
   ]
  },
  {
   "cell_type": "code",
   "execution_count": 9,
   "metadata": {},
   "outputs": [],
   "source": [
    "underscoredf = pd.DataFrame(zip(title_list, suburl_list), columns=['title', 'url'])\n",
    "\n",
    "underscoredf['len_title'] = underscoredf['title'].str.len()\n",
    "underscoredf['len_url'] = underscoredf['url'].str.len()\n",
    "underscoredf['source'] = 'underscore'\n",
    "underscoredf['digit_len_title'] = underscoredf['len_title'].astype(str).str.len()\n",
    "underscoredf['doubled_len_title'] = underscoredf['len_title']*2"
   ]
  },
  {
   "cell_type": "code",
   "execution_count": 10,
   "metadata": {},
   "outputs": [
    {
     "data": {
      "text/html": [
       "<div>\n",
       "<style scoped>\n",
       "    .dataframe tbody tr th:only-of-type {\n",
       "        vertical-align: middle;\n",
       "    }\n",
       "\n",
       "    .dataframe tbody tr th {\n",
       "        vertical-align: top;\n",
       "    }\n",
       "\n",
       "    .dataframe thead th {\n",
       "        text-align: right;\n",
       "    }\n",
       "</style>\n",
       "<table border=\"1\" class=\"dataframe\">\n",
       "  <thead>\n",
       "    <tr style=\"text-align: right;\">\n",
       "      <th></th>\n",
       "      <th>title</th>\n",
       "      <th>url</th>\n",
       "      <th>len_title</th>\n",
       "      <th>len_url</th>\n",
       "      <th>source</th>\n",
       "      <th>digit_len_title</th>\n",
       "      <th>doubled_len_title</th>\n",
       "    </tr>\n",
       "  </thead>\n",
       "  <tbody>\n",
       "    <tr>\n",
       "      <th>0</th>\n",
       "      <td>왜 자꾸 어그로를 끄는 거야!</td>\n",
       "      <td>http://underscore.kr/istrollingcontagious/</td>\n",
       "      <td>16</td>\n",
       "      <td>42</td>\n",
       "      <td>underscore</td>\n",
       "      <td>2</td>\n",
       "      <td>32</td>\n",
       "    </tr>\n",
       "    <tr>\n",
       "      <th>1</th>\n",
       "      <td>페이스북으로 ‘정잘알’이 될 수 있을까?</td>\n",
       "      <td>http://underscore.kr/politaku/</td>\n",
       "      <td>22</td>\n",
       "      <td>30</td>\n",
       "      <td>underscore</td>\n",
       "      <td>2</td>\n",
       "      <td>44</td>\n",
       "    </tr>\n",
       "    <tr>\n",
       "      <th>2</th>\n",
       "      <td>당신은 남자답지 않습니다</td>\n",
       "      <td>http://underscore.kr/genderindanger/</td>\n",
       "      <td>13</td>\n",
       "      <td>36</td>\n",
       "      <td>underscore</td>\n",
       "      <td>2</td>\n",
       "      <td>26</td>\n",
       "    </tr>\n",
       "    <tr>\n",
       "      <th>3</th>\n",
       "      <td>좋은 고등학교를 가면 대학 입시에서 유리할까?</td>\n",
       "      <td>http://underscore.kr/goodhigschoolanduniv/</td>\n",
       "      <td>25</td>\n",
       "      <td>42</td>\n",
       "      <td>underscore</td>\n",
       "      <td>2</td>\n",
       "      <td>50</td>\n",
       "    </tr>\n",
       "    <tr>\n",
       "      <th>4</th>\n",
       "      <td>덥다, 더워! 데이터가 알려주는 더위와 자살률의 관계</td>\n",
       "      <td>http://underscore.kr/hotweatherkillspeople/</td>\n",
       "      <td>29</td>\n",
       "      <td>43</td>\n",
       "      <td>underscore</td>\n",
       "      <td>2</td>\n",
       "      <td>58</td>\n",
       "    </tr>\n",
       "    <tr>\n",
       "      <th>5</th>\n",
       "      <td>진짜로 잘 모르는 사람이 더 용감할까?</td>\n",
       "      <td>http://underscore.kr/arenoobsmoreconfident/</td>\n",
       "      <td>21</td>\n",
       "      <td>43</td>\n",
       "      <td>underscore</td>\n",
       "      <td>2</td>\n",
       "      <td>42</td>\n",
       "    </tr>\n",
       "  </tbody>\n",
       "</table>\n",
       "</div>"
      ],
      "text/plain": [
       "                           title                                          url  \\\n",
       "0               왜 자꾸 어그로를 끄는 거야!   http://underscore.kr/istrollingcontagious/   \n",
       "1         페이스북으로 ‘정잘알’이 될 수 있을까?               http://underscore.kr/politaku/   \n",
       "2                  당신은 남자답지 않습니다         http://underscore.kr/genderindanger/   \n",
       "3      좋은 고등학교를 가면 대학 입시에서 유리할까?   http://underscore.kr/goodhigschoolanduniv/   \n",
       "4  덥다, 더워! 데이터가 알려주는 더위와 자살률의 관계  http://underscore.kr/hotweatherkillspeople/   \n",
       "5          진짜로 잘 모르는 사람이 더 용감할까?  http://underscore.kr/arenoobsmoreconfident/   \n",
       "\n",
       "   len_title  len_url      source  digit_len_title  doubled_len_title  \n",
       "0         16       42  underscore                2                 32  \n",
       "1         22       30  underscore                2                 44  \n",
       "2         13       36  underscore                2                 26  \n",
       "3         25       42  underscore                2                 50  \n",
       "4         29       43  underscore                2                 58  \n",
       "5         21       43  underscore                2                 42  "
      ]
     },
     "execution_count": 10,
     "metadata": {},
     "output_type": "execute_result"
    }
   ],
   "source": [
    "underscoredf"
   ]
  },
  {
   "cell_type": "code",
   "execution_count": 11,
   "metadata": {},
   "outputs": [
    {
     "data": {
      "text/html": [
       "<div>\n",
       "<style scoped>\n",
       "    .dataframe tbody tr th:only-of-type {\n",
       "        vertical-align: middle;\n",
       "    }\n",
       "\n",
       "    .dataframe tbody tr th {\n",
       "        vertical-align: top;\n",
       "    }\n",
       "\n",
       "    .dataframe thead th {\n",
       "        text-align: right;\n",
       "    }\n",
       "</style>\n",
       "<table border=\"1\" class=\"dataframe\">\n",
       "  <thead>\n",
       "    <tr style=\"text-align: right;\">\n",
       "      <th></th>\n",
       "      <th>title</th>\n",
       "      <th>len_url</th>\n",
       "      <th>url</th>\n",
       "    </tr>\n",
       "  </thead>\n",
       "  <tbody>\n",
       "    <tr>\n",
       "      <th>0</th>\n",
       "      <td>왜 자꾸 어그로를 끄는 거야!</td>\n",
       "      <td>42</td>\n",
       "      <td>http://underscore.kr/istrollingcontagious/</td>\n",
       "    </tr>\n",
       "    <tr>\n",
       "      <th>1</th>\n",
       "      <td>페이스북으로 ‘정잘알’이 될 수 있을까?</td>\n",
       "      <td>30</td>\n",
       "      <td>http://underscore.kr/politaku/</td>\n",
       "    </tr>\n",
       "    <tr>\n",
       "      <th>2</th>\n",
       "      <td>당신은 남자답지 않습니다</td>\n",
       "      <td>36</td>\n",
       "      <td>http://underscore.kr/genderindanger/</td>\n",
       "    </tr>\n",
       "    <tr>\n",
       "      <th>3</th>\n",
       "      <td>좋은 고등학교를 가면 대학 입시에서 유리할까?</td>\n",
       "      <td>42</td>\n",
       "      <td>http://underscore.kr/goodhigschoolanduniv/</td>\n",
       "    </tr>\n",
       "    <tr>\n",
       "      <th>4</th>\n",
       "      <td>덥다, 더워! 데이터가 알려주는 더위와 자살률의 관계</td>\n",
       "      <td>43</td>\n",
       "      <td>http://underscore.kr/hotweatherkillspeople/</td>\n",
       "    </tr>\n",
       "    <tr>\n",
       "      <th>5</th>\n",
       "      <td>진짜로 잘 모르는 사람이 더 용감할까?</td>\n",
       "      <td>43</td>\n",
       "      <td>http://underscore.kr/arenoobsmoreconfident/</td>\n",
       "    </tr>\n",
       "  </tbody>\n",
       "</table>\n",
       "</div>"
      ],
      "text/plain": [
       "                           title  len_url  \\\n",
       "0               왜 자꾸 어그로를 끄는 거야!       42   \n",
       "1         페이스북으로 ‘정잘알’이 될 수 있을까?       30   \n",
       "2                  당신은 남자답지 않습니다       36   \n",
       "3      좋은 고등학교를 가면 대학 입시에서 유리할까?       42   \n",
       "4  덥다, 더워! 데이터가 알려주는 더위와 자살률의 관계       43   \n",
       "5          진짜로 잘 모르는 사람이 더 용감할까?       43   \n",
       "\n",
       "                                           url  \n",
       "0   http://underscore.kr/istrollingcontagious/  \n",
       "1               http://underscore.kr/politaku/  \n",
       "2         http://underscore.kr/genderindanger/  \n",
       "3   http://underscore.kr/goodhigschoolanduniv/  \n",
       "4  http://underscore.kr/hotweatherkillspeople/  \n",
       "5  http://underscore.kr/arenoobsmoreconfident/  "
      ]
     },
     "execution_count": 11,
     "metadata": {},
     "output_type": "execute_result"
    }
   ],
   "source": [
    "underscoredf[['title', 'len_url', 'url']]"
   ]
  }
 ],
 "metadata": {
  "kernelspec": {
   "display_name": "Python 3",
   "language": "python",
   "name": "python3"
  },
  "language_info": {
   "codemirror_mode": {
    "name": "ipython",
    "version": 3
   },
   "file_extension": ".py",
   "mimetype": "text/x-python",
   "name": "python",
   "nbconvert_exporter": "python",
   "pygments_lexer": "ipython3",
   "version": "3.7.0"
  }
 },
 "nbformat": 4,
 "nbformat_minor": 4
}

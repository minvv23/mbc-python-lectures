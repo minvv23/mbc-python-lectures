{
 "cells": [
  {
   "cell_type": "markdown",
   "metadata": {
    "colab_type": "text",
    "id": "mT0lKEp_hyqT",
    "tags": []
   },
   "source": [
    "## Week 01 : 변수, 데이터 타입, For문"
   ]
  },
  {
   "cell_type": "markdown",
   "metadata": {},
   "source": [
    "**⁕ Jupyter Lab 셀 실행법**\n",
    "- Ctrl + Enter : 셀 실행\n",
    "- Shift + Enter : 셀 실행 후 다음 셀로 이동 (만약에 셀이 없다면 새 셀 생성)\n",
    "- ALt + Enter : 셀 실행 후 새 셀 생성\n",
    "  \n",
    "**⁕ Jupyter Lab 주요 단축키**\n",
    "- A : 새 셀 생성\n",
    "- X : 셀 오려두기\n",
    "- C : 셀 복사하기\n",
    "- V : 셀 붙여넣기\n",
    "- D,D : 셀 삭제하기\n",
    "- Z : 실행 취소\n",
    "- Shift + Z : 실행 재취소\n",
    "  \n",
    "**⁕ Python & Jupyter Lab 사용 시 유의사항**\n",
    "- Anaconda Prompt 위에 Jupyter Lab Browser를 띄우는 겁니다. (브라우저 창 떴다고 Prompt창 닫으면 안 됨)\n",
    "- Jupyter Lab에서 폴더 및 파일을 생성/삭제하면 도스 상에서의 작업과 같아서 곧바로 변경이 적용되고 휴지통 안 거치고 삭제됩니다. 주의해주세요!\n",
    "- Jupyter의 장점이자 단점인데, 셀을 실행하지 않으면 셀 안에 들어있는 코드가 아무 의미가 없습니다! 단순한 코드 오류의 경우 셀 실행 순서에 따른 문제일 수 있으니 헷갈리면 위에서부터 셀을 쭉 다시 실행하는 것을 권장합니다\n",
    "- 가끔 실수로 셀 바깥쪽 클릭하고 알파벳 M을 누르면 마크다운(Markdown) 노트 작성 기능으로 바뀝니다. Y를 누르셔야 일반적인 코드로 돌아옵니다.\n",
    "- 셀을 실행했을 때, 기본적으로는 마지막 줄에 있는 object값을 print해줍니다. 만약 중간중간 값을 확인하고 싶으시다면 하나하나 print()를 적용해줘야 합니다."
   ]
  },
  {
   "cell_type": "markdown",
   "metadata": {
    "colab_type": "text",
    "id": "9d-l1SQrhyqU"
   },
   "source": [
    "#### 1. 기초 연산"
   ]
  },
  {
   "cell_type": "code",
   "execution_count": 1,
   "metadata": {
    "colab": {},
    "colab_type": "code",
    "id": "gXq0rMbJhyqV",
    "outputId": "3439bfec-862d-43e6-f7c8-a7d7bd5d788a"
   },
   "outputs": [
    {
     "name": "stdout",
     "output_type": "stream",
     "text": [
      "10\n",
      "4\n",
      "21\n",
      "2.3333333333333335\n",
      "2\n",
      "1\n",
      "343\n",
      "0.42424242424242425\n",
      "12.833333333333334\n"
     ]
    }
   ],
   "source": [
    "a = 7\n",
    "b = 3\n",
    "c = 5.5\n",
    "\n",
    "print(a + b) #add\n",
    "print(a - b) #subtract\n",
    "print(a * b) #multiply\n",
    "print(a / b) #divide\n",
    "print(a // b) #quotient(몫)\n",
    "print(a % b) #remainder(나머지)\n",
    "print(a ** b) #power(N제곱/N승)\n",
    "print(a/b/c)\n",
    "print(a/(b/c))"
   ]
  },
  {
   "cell_type": "markdown",
   "metadata": {
    "colab_type": "text",
    "id": "O4aUV-E7hyqb"
   },
   "source": [
    "#### 2. 데이터 타입\n",
    "- int : integer, 정수\n",
    "- float : 실수(소수점을 포함한 수)\n",
    "- str : string, 글자\n",
    "- bool : True/False"
   ]
  },
  {
   "cell_type": "code",
   "execution_count": 2,
   "metadata": {},
   "outputs": [],
   "source": [
    "a = 3\n",
    "b = '3'\n",
    "c = False"
   ]
  },
  {
   "cell_type": "code",
   "execution_count": 3,
   "metadata": {
    "colab": {},
    "colab_type": "code",
    "id": "KHZ2sAFEhyqc",
    "outputId": "57b11b3b-abcc-4939-cfe0-79757d7c53d3"
   },
   "outputs": [
    {
     "name": "stdout",
     "output_type": "stream",
     "text": [
      "3 3 False\n",
      "<class 'int'> <class 'str'> <class 'bool'>\n"
     ]
    }
   ],
   "source": [
    "print(a, b, c)\n",
    "print(type(a), type(b), type(c))"
   ]
  },
  {
   "cell_type": "code",
   "execution_count": 4,
   "metadata": {
    "colab": {},
    "colab_type": "code",
    "id": "5Jerv3Yuhyqg",
    "outputId": "410fe797-2332-4533-ea89-01733fe5bc34"
   },
   "outputs": [
    {
     "name": "stdout",
     "output_type": "stream",
     "text": [
      "<class 'int'>\n",
      "3.0\n",
      "<class 'float'>\n"
     ]
    }
   ],
   "source": [
    "print(type(a))\n",
    "a = float(a)\n",
    "print(a)\n",
    "print(type(a))"
   ]
  },
  {
   "cell_type": "code",
   "execution_count": 5,
   "metadata": {
    "colab": {},
    "colab_type": "code",
    "id": "C7LhfxA7hyqj",
    "outputId": "eb808d9b-2fb7-4a82-890c-dd9c5fedf452"
   },
   "outputs": [
    {
     "name": "stdout",
     "output_type": "stream",
     "text": [
      "<class 'bool'>\n",
      "0\n",
      "<class 'int'>\n"
     ]
    }
   ],
   "source": [
    "print(type(c))\n",
    "c2 = int(c)\n",
    "print(c2)\n",
    "print(type(c2))"
   ]
  },
  {
   "cell_type": "code",
   "execution_count": 6,
   "metadata": {
    "colab": {},
    "colab_type": "code",
    "id": "FzxXPAWohyqn",
    "outputId": "93357fc8-e79a-4eff-9acc-5a3bf43ef2c6"
   },
   "outputs": [
    {
     "name": "stdout",
     "output_type": "stream",
     "text": [
      "False\n",
      "True\n",
      "False\n",
      "True\n",
      "<class 'bool'>\n"
     ]
    }
   ],
   "source": [
    "print(3==7)\n",
    "print(4!=5)\n",
    "print(2.5!=2.5)\n",
    "\n",
    "trueorfalse = 4!=5\n",
    "print(trueorfalse)\n",
    "print(type(trueorfalse))"
   ]
  },
  {
   "cell_type": "markdown",
   "metadata": {
    "colab_type": "text",
    "id": "O4aUV-E7hyqb"
   },
   "source": [
    "#### 3. 리스트 []\n",
    "- 여러 값들을 저장해서 사용할 때 사용\n",
    "- 리스트 안에는 모든 값이 들어갈 수 있음 (리스트 안에 리스트를 넣는 것 역시 가능)\n",
    "- 리스트의 맨 뒤에 직접 값을 추가할 때에는 *name_of_list.append(value)* 와 같은 식으로 사용\n",
    "- 리스트 안에서 값을 순서대로 선택할 때에는 대괄호 인덱싱(indexing)을 활용 (0부터 시작함에 유의)"
   ]
  },
  {
   "cell_type": "code",
   "execution_count": 7,
   "metadata": {},
   "outputs": [
    {
     "data": {
      "text/plain": [
       "6"
      ]
     },
     "execution_count": 7,
     "metadata": {},
     "output_type": "execute_result"
    }
   ],
   "source": [
    "x = [0, '3', 'a', [], [2,'hello', 'mbc'], 123]\n",
    "len(x)"
   ]
  },
  {
   "cell_type": "code",
   "execution_count": 8,
   "metadata": {},
   "outputs": [
    {
     "data": {
      "text/plain": [
       "'mbc'"
      ]
     },
     "execution_count": 8,
     "metadata": {},
     "output_type": "execute_result"
    }
   ],
   "source": [
    "x[4][2]"
   ]
  },
  {
   "cell_type": "code",
   "execution_count": 9,
   "metadata": {},
   "outputs": [
    {
     "data": {
      "text/plain": [
       "'mbc'"
      ]
     },
     "execution_count": 9,
     "metadata": {},
     "output_type": "execute_result"
    }
   ],
   "source": [
    "x[-2][-1]"
   ]
  },
  {
   "cell_type": "code",
   "execution_count": 10,
   "metadata": {},
   "outputs": [
    {
     "data": {
      "text/plain": [
       "123"
      ]
     },
     "execution_count": 10,
     "metadata": {},
     "output_type": "execute_result"
    }
   ],
   "source": [
    "x[-1]"
   ]
  },
  {
   "cell_type": "markdown",
   "metadata": {
    "colab_type": "text",
    "id": "O4aUV-E7hyqb"
   },
   "source": [
    "#### 4. 딕셔너리 {}\n",
    "- 우리가 쓰는 엑셀(CSV, XLSX) 파일의 원형(?)이라고 이해하면 편함\n",
    "- {key:value, key:value, ...}와 같은 형식으로 구성됨\n",
    "- 인덱싱(indexing)의 경우 리스트처럼 N번째 숫자를 받는 대신 key값을 받음\n",
    "- 리스트처럼 value값에는 어떤 값이든 들어갈 수 있음"
   ]
  },
  {
   "cell_type": "code",
   "execution_count": 11,
   "metadata": {},
   "outputs": [],
   "source": [
    "schoolinfo = {'name':'TaeYoungKang', 'gpa':3.7, 'major':['sociology', 'poli-sci']}"
   ]
  },
  {
   "cell_type": "code",
   "execution_count": 12,
   "metadata": {},
   "outputs": [
    {
     "data": {
      "text/plain": [
       "3.7"
      ]
     },
     "execution_count": 12,
     "metadata": {},
     "output_type": "execute_result"
    }
   ],
   "source": [
    "schoolinfo['gpa']"
   ]
  },
  {
   "cell_type": "code",
   "execution_count": 13,
   "metadata": {},
   "outputs": [
    {
     "data": {
      "text/plain": [
       "2"
      ]
     },
     "execution_count": 13,
     "metadata": {},
     "output_type": "execute_result"
    }
   ],
   "source": [
    "len(schoolinfo['major'])"
   ]
  },
  {
   "cell_type": "markdown",
   "metadata": {
    "colab_type": "text",
    "id": "W-wZ9eIbhyrm"
   },
   "source": [
    "#### 4. For문 사용법\n",
    "- 문법은 \"For 하나하나 in 덩어리 : (들여쓰기) 하나하나에 대해 실해할 내용\"의 형태를 가짐\n",
    "- 일반적으로 반복 노동을 자동화하는 용도로 사용\n",
    "- 일반적인 변수들과 마찬가지로 저 '하나하나' 변수 역시 이름을 마음대로 지어서 활용하면 됨\n",
    "- 당연한 이야기지만, for문 안에 넣은 코드에 대해서만 for loop이 작동함. 즉, 처음에 for문 연습할 때에는 특정 코드를 for문 안에 넣냐 밖에 넣냐에 따라 왜 결과가 다르게 나타나는지 이해하는 것이 핵심\n",
    "- range()함수를 효과적으로 사용할 수 있음\n",
    "    - range(N) : 0 이상 N미만까지의 연속되는 수\n",
    "    - range(M, N) : M 이상 N미만까지의 연속되는 수"
   ]
  },
  {
   "cell_type": "code",
   "execution_count": 14,
   "metadata": {},
   "outputs": [
    {
     "name": "stdout",
     "output_type": "stream",
     "text": [
      "[2, 20, 470]\n"
     ]
    }
   ],
   "source": [
    "x = [1, 10, 235]\n",
    "doubled_x = []\n",
    "\n",
    "for i in x :\n",
    "    doubled_x.append(i*2)\n",
    "    \n",
    "print(doubled_x)"
   ]
  },
  {
   "cell_type": "code",
   "execution_count": 15,
   "metadata": {},
   "outputs": [
    {
     "name": "stdout",
     "output_type": "stream",
     "text": [
      "[470]\n"
     ]
    }
   ],
   "source": [
    "x = [1, 10, 235]\n",
    "\n",
    "for i in x :\n",
    "    doubled_x = []\n",
    "    doubled_x.append(i*2)\n",
    "    \n",
    "print(doubled_x)"
   ]
  },
  {
   "cell_type": "code",
   "execution_count": 16,
   "metadata": {
    "colab": {},
    "colab_type": "code",
    "id": "tmms4xGJhyrm",
    "outputId": "c92eb200-3f65-4122-a112-8a42a0df5217"
   },
   "outputs": [
    {
     "name": "stdout",
     "output_type": "stream",
     "text": [
      "o\n",
      "oo\n",
      "ooo\n",
      "oooo\n",
      "ooooo\n"
     ]
    }
   ],
   "source": [
    "# for statement\n",
    "for i in range(1,6) :\n",
    "    print(\"o\"*i)"
   ]
  },
  {
   "cell_type": "code",
   "execution_count": 17,
   "metadata": {
    "colab": {},
    "colab_type": "code",
    "id": "SRE6bfQUhyrr",
    "outputId": "71b09c0b-b30d-43a3-aaaf-79845af4e4fa"
   },
   "outputs": [
    {
     "name": "stdout",
     "output_type": "stream",
     "text": [
      "ooooo\n",
      "oooo\n",
      "ooo\n",
      "oo\n",
      "o\n"
     ]
    }
   ],
   "source": [
    "for i in range(1,6) :\n",
    "    print('o'*(6-i))"
   ]
  },
  {
   "cell_type": "code",
   "execution_count": 18,
   "metadata": {
    "colab": {},
    "colab_type": "code",
    "id": "yqK2RaN8hyru",
    "outputId": "2407a74f-ff21-4660-ac72-78b18997179e"
   },
   "outputs": [
    {
     "name": "stdout",
     "output_type": "stream",
     "text": [
      " ooooo\n",
      "  oooo\n",
      "   ooo\n",
      "    oo\n",
      "     o\n"
     ]
    }
   ],
   "source": [
    "for i in range(1,6) :\n",
    "    print(' '*(i-1), 'o'*(6-i))"
   ]
  },
  {
   "cell_type": "code",
   "execution_count": 19,
   "metadata": {
    "colab": {},
    "colab_type": "code",
    "id": "XrApBz4ohyrz",
    "outputId": "bbac9823-d808-40ed-be5c-bf294e26f129"
   },
   "outputs": [
    {
     "name": "stdout",
     "output_type": "stream",
     "text": [
      "      o\n",
      "     oo\n",
      "    ooo\n",
      "   oooo\n",
      "  ooooo\n"
     ]
    }
   ],
   "source": [
    "for i in range(1,6) :\n",
    "    print(' '*(6-i), 'o'*i)"
   ]
  }
 ],
 "metadata": {
  "colab": {
   "name": "20180903 Week 1.ipynb",
   "provenance": [],
   "version": "0.3.2"
  },
  "kernelspec": {
   "display_name": "Python 3",
   "language": "python",
   "name": "python3"
  },
  "language_info": {
   "codemirror_mode": {
    "name": "ipython",
    "version": 3
   },
   "file_extension": ".py",
   "mimetype": "text/x-python",
   "name": "python",
   "nbconvert_exporter": "python",
   "pygments_lexer": "ipython3",
   "version": "3.7.0"
  }
 },
 "nbformat": 4,
 "nbformat_minor": 4
}

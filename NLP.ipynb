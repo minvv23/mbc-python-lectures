{
 "cells": [
  {
   "cell_type": "code",
   "execution_count": 1,
   "metadata": {},
   "outputs": [],
   "source": [
    "import re\n",
    "import pandas as pd\n",
    "import numpy as np\n",
    "import os\n",
    "import glob\n",
    "import json\n",
    "import time\n",
    "from datetime import datetime, timedelta\n",
    "import pickle\n",
    "import statsmodels.api as sm\n",
    "\n",
    "import requests\n",
    "from bs4 import BeautifulSoup\n",
    "from tqdm import tqdm\n",
    "from collections import Counter\n",
    "from itertools import chain\n",
    "import matplotlib.pyplot as plt\n",
    "import seaborn as sns\n",
    "from kss import split_sentences\n",
    "from operator import itemgetter\n",
    "\n",
    "def pickle_reader(filename) :\n",
    "    with open(filename, 'rb') as f :\n",
    "        output_df = pickle.load(f)\n",
    "    return output_df\n",
    "\n",
    "def pickle_writer(objecttosave, filename) :\n",
    "    with open(filename, 'wb') as f :\n",
    "        pickle.dump(objecttosave, f, protocol=5)\n",
    "        \n",
    "basic_header = {'User-Agent':'Mozilla/5.0 (Macintosh; Intel Mac OS X 10_9_5)\\AppleWebKit 537.36 (KHTML, like Gecko) Chrome',\n",
    "                'Accept':'text/html,application/xhtml+xml,application/xml;q=0.9,image/webp,image/apng,*/*;q=0.8,application/signed-exchange;v=b3;q=0.9'}"
   ]
  },
  {
   "cell_type": "markdown",
   "metadata": {
    "tags": []
   },
   "source": [
    "### 1. 데이터 호출 및 전처리"
   ]
  },
  {
   "cell_type": "code",
   "execution_count": 3,
   "metadata": {},
   "outputs": [],
   "source": [
    "np.random.seed(0)\n",
    "\n",
    "jobplanetdf = pd.read_csv('./data/jobplanet_review.csv', index_col=0)\n",
    "moviedf = pd.read_csv('./data/naver_movie.csv', index_col=0).sample(500)\n",
    "shoppingdf = pd.read_csv('./data/naver_shopping.csv', index_col=0).sample(500)\n",
    "enterdf = pd.read_csv('./data/beep_dataset.csv', index_col=0).sample(500)\n",
    "welfarenewsdf = pd.read_csv('./data/welfare_news.csv', index_col=0)\n",
    "\n",
    "moviedf.columns = ['text', 'label']\n",
    "shoppingdf.columns = ['text', 'label']\n",
    "enterdf.columns = ['text', 'label']"
   ]
  },
  {
   "cell_type": "markdown",
   "metadata": {
    "tags": []
   },
   "source": [
    "### 2. 사전 기반 알고리즘은 왜 성능이 좋지 않을까?"
   ]
  },
  {
   "cell_type": "code",
   "execution_count": 4,
   "metadata": {},
   "outputs": [],
   "source": [
    "np.random.seed(0)\n",
    "\n",
    "textdf = \\\n",
    "pd.concat([pd.DataFrame(jobplanetdf[jobplanetdf['label']==1]['good'].rename('text')).assign(label=1),\n",
    "           pd.DataFrame(jobplanetdf[jobplanetdf['label']==0]['bad'].rename('text')).assign(label=0),\n",
    "           moviedf, shoppingdf, enterdf], \n",
    "          axis=0, ignore_index=True)\n",
    "\n",
    "\n",
    "textdf = textdf.sample(frac=1).reset_index(drop=True)"
   ]
  },
  {
   "cell_type": "code",
   "execution_count": 5,
   "metadata": {},
   "outputs": [],
   "source": [
    "negative_dict = \\\n",
    "['나쁜', '노잼', '쓰레기', '별로', '최악', '구린', '꼰대', '박봉', '수직적', '하락', \n",
    " '위계적', '하향', '부족', '정치질', '지루', '졸림', '불편']"
   ]
  },
  {
   "cell_type": "code",
   "execution_count": 6,
   "metadata": {},
   "outputs": [],
   "source": [
    "from sklearn.metrics import confusion_matrix, f1_score, accuracy_score"
   ]
  },
  {
   "cell_type": "code",
   "execution_count": 7,
   "metadata": {},
   "outputs": [
    {
     "data": {
      "text/plain": [
       "0.6990846681922197"
      ]
     },
     "execution_count": 7,
     "metadata": {},
     "output_type": "execute_result"
    }
   ],
   "source": [
    "f1_score(np.where(textdf['text'].str.contains('|'.join(negative_dict)), 0, 1), textdf['label'])"
   ]
  },
  {
   "cell_type": "markdown",
   "metadata": {},
   "source": [
    "### 3. 토큰화(Tokenization)"
   ]
  },
  {
   "cell_type": "code",
   "execution_count": 9,
   "metadata": {},
   "outputs": [
    {
     "data": {
      "text/plain": [
       "0        복리후생이 좋습니다. 도서관, 헬스장, 구내식당, 시간선택제 근무 등 직원들이 누릴...\n",
       "1                          B급도 아닌 C급 영화...하나도 안무서우니 참고하길..\n",
       "2        일정에 차질이 없다면 연차 사용에 대한 터치 제로. 워라밸이 잘 지켜짐. 다들 야근...\n",
       "3                   자체개발 Erp 거지같음, 결재하나 하려면 해야할 과정이 너무 많음,\n",
       "4                                     마지막의 억지 신파극만 아니면 볼만함\n",
       "                               ...                        \n",
       "13450    공무원이 무급 육아휴직 기간 기초생활수급비를 수령한 것은 정당하다는 판결이 나왔다....\n",
       "13451    무급 육아휴직 기간에 기초생활수급비를 수령해 반환 명령을 받은 전 강릉시 공무원이 ...\n",
       "13452    무급 육아휴직 중 기초생활수급비를 수령해 급여 반환 명령을 받은 전 강릉시 공무원이...\n",
       "13453    ESG(환경·사회·지배구조) 열풍이 불면서 벤처캐피털(VC) 사이에서 ‘임팩트 투자...\n",
       "13454    춘천지법 강릉지원 행정1부는 무급 육아휴직 중에 기초생활수급비를 받은 강릉시 전 공...\n",
       "Length: 13455, dtype: object"
      ]
     },
     "execution_count": 9,
     "metadata": {},
     "output_type": "execute_result"
    }
   ],
   "source": [
    "corpus = pd.concat([textdf['text'], welfarenewsdf['title'], welfarenewsdf['content']], axis=0, ignore_index=True)\n",
    "corpus = corpus.str.replace('\\[(.*?)\\]', '')\n",
    "corpus = corpus.str.split().str.join(' ')\n",
    "corpus"
   ]
  },
  {
   "cell_type": "code",
   "execution_count": 10,
   "metadata": {},
   "outputs": [],
   "source": [
    "from tokenizers import SentencePieceBPETokenizer\n",
    "bpe_tokenizer = SentencePieceBPETokenizer()\n",
    "bpe_tokenizer.train_from_iterator(corpus)"
   ]
  },
  {
   "cell_type": "code",
   "execution_count": 11,
   "metadata": {},
   "outputs": [
    {
     "data": {
      "text/plain": [
       "['▁이', '회사', '는', '연봉', '상승', '률이', '▁너무', '▁', '니다']"
      ]
     },
     "execution_count": 11,
     "metadata": {},
     "output_type": "execute_result"
    }
   ],
   "source": [
    "bpe_tokenizer.encode('이회사는연봉상승률이 너무 짭니다').tokens"
   ]
  },
  {
   "cell_type": "code",
   "execution_count": 14,
   "metadata": {},
   "outputs": [
    {
     "data": {
      "text/plain": [
       "['▁KT는', '보상', '정책', '빨리', '내', '라']"
      ]
     },
     "execution_count": 14,
     "metadata": {},
     "output_type": "execute_result"
    }
   ],
   "source": [
    "bpe_tokenizer.encode('KT는보상정책빨리내라').tokens"
   ]
  },
  {
   "cell_type": "code",
   "execution_count": 15,
   "metadata": {},
   "outputs": [
    {
     "data": {
      "text/plain": [
       "['./model\\\\company_tokenizer-vocab.json',\n",
       " './model\\\\company_tokenizer-merges.txt']"
      ]
     },
     "execution_count": 15,
     "metadata": {},
     "output_type": "execute_result"
    }
   ],
   "source": [
    "bpe_tokenizer.save_model('./model', 'company_tokenizer')"
   ]
  },
  {
   "cell_type": "code",
   "execution_count": 16,
   "metadata": {},
   "outputs": [],
   "source": [
    "bpe_tokenizer = \\\n",
    "SentencePieceBPETokenizer('./model/company_tokenizer-vocab.json',\n",
    "                          './model/company_tokenizer-merges.txt')"
   ]
  },
  {
   "cell_type": "code",
   "execution_count": 17,
   "metadata": {},
   "outputs": [
    {
     "name": "stderr",
     "output_type": "stream",
     "text": [
      "100%|██████████████████████████████████████████████████████████████████████████| 13455/13455 [00:05<00:00, 2278.19it/s]\n"
     ]
    }
   ],
   "source": [
    "pos_corpus = [bpe_tokenizer.encode(sent).tokens for sent in tqdm(corpus)]"
   ]
  },
  {
   "cell_type": "markdown",
   "metadata": {},
   "source": [
    "### 4. 단어-벡터 임베딩(Tokenization)"
   ]
  },
  {
   "cell_type": "code",
   "execution_count": 18,
   "metadata": {},
   "outputs": [],
   "source": [
    "from gensim.test.utils import common_texts\n",
    "from gensim.models import Word2Vec, FastText\n",
    "\n",
    "w2v_model = Word2Vec(pos_corpus, sg=1, epochs=7)\n",
    "ft_model = FastText(pos_corpus, sg=1, epochs=7)\n",
    "\n",
    "w2v_model.save('./model/word2vec.model')\n",
    "ft_model.save('./model/fasttext.model')"
   ]
  },
  {
   "cell_type": "code",
   "execution_count": 19,
   "metadata": {},
   "outputs": [],
   "source": [
    "w2v_model = Word2Vec.load('./model/word2vec.model')\n",
    "ft_model = FastText.load('./model/fasttext.model')"
   ]
  },
  {
   "cell_type": "code",
   "execution_count": 20,
   "metadata": {},
   "outputs": [
    {
     "data": {
      "text/plain": [
       "array([-6.98279560e-01,  3.41737062e-01,  4.81373429e-01,  3.54369789e-01,\n",
       "       -2.79701859e-01,  1.10048808e-01, -1.22517772e-01, -5.21665497e-04,\n",
       "        1.12048402e-01,  1.17490590e-01, -1.56347454e-01, -6.73366129e-01,\n",
       "       -3.80719360e-03,  3.58526319e-01, -1.47793680e-01,  6.98661357e-02,\n",
       "       -1.11944415e-02,  3.43430080e-02,  2.76096612e-01,  1.71718538e-01,\n",
       "       -2.39261791e-01,  7.06743121e-01, -2.96038598e-01,  1.93332553e-01,\n",
       "        2.76378971e-02, -2.52391368e-01, -1.96680278e-01,  3.61599505e-01,\n",
       "       -2.63215840e-01, -3.40067118e-01,  1.65190861e-01,  1.17417775e-01,\n",
       "       -1.76941484e-01,  3.36162060e-01, -3.97318453e-01, -3.13215256e-01,\n",
       "        3.53982449e-01, -2.79376924e-01,  2.68941730e-01,  2.26636097e-01,\n",
       "        2.97791541e-01,  2.77890172e-02, -8.18398148e-02, -1.17654547e-01,\n",
       "       -1.14365876e-01,  1.55705705e-01,  4.62470949e-02, -5.12289286e-01,\n",
       "        6.46722270e-03, -1.27233341e-01, -1.40132651e-01,  3.88348498e-03,\n",
       "        1.42480075e-01, -2.88047880e-01,  3.82081717e-02,  2.23646581e-01,\n",
       "        4.89234924e-01,  2.06625670e-01,  3.46649587e-01,  2.72252679e-01,\n",
       "       -2.05955058e-01,  1.00382186e-01, -6.04244590e-01, -1.29227534e-01,\n",
       "        2.46508256e-01, -1.01203687e-01,  9.21300575e-02, -7.18498155e-02,\n",
       "       -1.34087399e-01,  5.74292779e-01, -3.69505823e-01,  1.89548835e-01,\n",
       "        4.44485962e-01,  4.86404635e-02,  3.01528484e-01,  1.14834964e-01,\n",
       "       -8.26415345e-02, -3.79041471e-02, -1.65781632e-01, -1.54552329e-02,\n",
       "       -4.30809647e-01,  1.10326506e-01,  2.01188460e-01,  1.59030110e-01,\n",
       "       -1.04965754e-01,  2.39871353e-01, -2.61238307e-01, -2.02120289e-01,\n",
       "        7.92575777e-02, -9.83796418e-02, -6.04877947e-03, -6.09069645e-01,\n",
       "       -3.17544460e-01, -7.27370903e-02, -4.32967007e-01,  6.60592467e-02,\n",
       "        3.41208756e-01,  4.15703326e-01,  1.82237461e-01,  4.23023045e-01],\n",
       "      dtype=float32)"
      ]
     },
     "execution_count": 20,
     "metadata": {},
     "output_type": "execute_result"
    }
   ],
   "source": [
    "w2v_model.wv['연봉']"
   ]
  },
  {
   "cell_type": "code",
   "execution_count": 21,
   "metadata": {},
   "outputs": [
    {
     "ename": "KeyError",
     "evalue": "\"Key '고인물' not present\"",
     "output_type": "error",
     "traceback": [
      "\u001b[1;31m---------------------------------------------------------------------------\u001b[0m",
      "\u001b[1;31mKeyError\u001b[0m                                  Traceback (most recent call last)",
      "\u001b[1;32m<ipython-input-21-cd2b247d7d44>\u001b[0m in \u001b[0;36m<module>\u001b[1;34m\u001b[0m\n\u001b[1;32m----> 1\u001b[1;33m \u001b[0mw2v_model\u001b[0m\u001b[1;33m.\u001b[0m\u001b[0mwv\u001b[0m\u001b[1;33m[\u001b[0m\u001b[1;34m'고인물'\u001b[0m\u001b[1;33m]\u001b[0m\u001b[1;33m\u001b[0m\u001b[0m\n\u001b[0m",
      "\u001b[1;32m~\\Anaconda3\\lib\\site-packages\\gensim\\models\\keyedvectors.py\u001b[0m in \u001b[0;36m__getitem__\u001b[1;34m(self, key_or_keys)\u001b[0m\n\u001b[0;32m    393\u001b[0m         \"\"\"\n\u001b[0;32m    394\u001b[0m         \u001b[1;32mif\u001b[0m \u001b[0misinstance\u001b[0m\u001b[1;33m(\u001b[0m\u001b[0mkey_or_keys\u001b[0m\u001b[1;33m,\u001b[0m \u001b[0m_KEY_TYPES\u001b[0m\u001b[1;33m)\u001b[0m\u001b[1;33m:\u001b[0m\u001b[1;33m\u001b[0m\u001b[0m\n\u001b[1;32m--> 395\u001b[1;33m             \u001b[1;32mreturn\u001b[0m \u001b[0mself\u001b[0m\u001b[1;33m.\u001b[0m\u001b[0mget_vector\u001b[0m\u001b[1;33m(\u001b[0m\u001b[0mkey_or_keys\u001b[0m\u001b[1;33m)\u001b[0m\u001b[1;33m\u001b[0m\u001b[0m\n\u001b[0m\u001b[0;32m    396\u001b[0m \u001b[1;33m\u001b[0m\u001b[0m\n\u001b[0;32m    397\u001b[0m         \u001b[1;32mreturn\u001b[0m \u001b[0mvstack\u001b[0m\u001b[1;33m(\u001b[0m\u001b[1;33m[\u001b[0m\u001b[0mself\u001b[0m\u001b[1;33m.\u001b[0m\u001b[0mget_vector\u001b[0m\u001b[1;33m(\u001b[0m\u001b[0mkey\u001b[0m\u001b[1;33m)\u001b[0m \u001b[1;32mfor\u001b[0m \u001b[0mkey\u001b[0m \u001b[1;32min\u001b[0m \u001b[0mkey_or_keys\u001b[0m\u001b[1;33m]\u001b[0m\u001b[1;33m)\u001b[0m\u001b[1;33m\u001b[0m\u001b[0m\n",
      "\u001b[1;32m~\\Anaconda3\\lib\\site-packages\\gensim\\models\\keyedvectors.py\u001b[0m in \u001b[0;36mget_vector\u001b[1;34m(self, key, norm)\u001b[0m\n\u001b[0;32m    436\u001b[0m \u001b[1;33m\u001b[0m\u001b[0m\n\u001b[0;32m    437\u001b[0m         \"\"\"\n\u001b[1;32m--> 438\u001b[1;33m         \u001b[0mindex\u001b[0m \u001b[1;33m=\u001b[0m \u001b[0mself\u001b[0m\u001b[1;33m.\u001b[0m\u001b[0mget_index\u001b[0m\u001b[1;33m(\u001b[0m\u001b[0mkey\u001b[0m\u001b[1;33m)\u001b[0m\u001b[1;33m\u001b[0m\u001b[0m\n\u001b[0m\u001b[0;32m    439\u001b[0m         \u001b[1;32mif\u001b[0m \u001b[0mnorm\u001b[0m\u001b[1;33m:\u001b[0m\u001b[1;33m\u001b[0m\u001b[0m\n\u001b[0;32m    440\u001b[0m             \u001b[0mself\u001b[0m\u001b[1;33m.\u001b[0m\u001b[0mfill_norms\u001b[0m\u001b[1;33m(\u001b[0m\u001b[1;33m)\u001b[0m\u001b[1;33m\u001b[0m\u001b[0m\n",
      "\u001b[1;32m~\\Anaconda3\\lib\\site-packages\\gensim\\models\\keyedvectors.py\u001b[0m in \u001b[0;36mget_index\u001b[1;34m(self, key, default)\u001b[0m\n\u001b[0;32m    410\u001b[0m             \u001b[1;32mreturn\u001b[0m \u001b[0mdefault\u001b[0m\u001b[1;33m\u001b[0m\u001b[0m\n\u001b[0;32m    411\u001b[0m         \u001b[1;32melse\u001b[0m\u001b[1;33m:\u001b[0m\u001b[1;33m\u001b[0m\u001b[0m\n\u001b[1;32m--> 412\u001b[1;33m             \u001b[1;32mraise\u001b[0m \u001b[0mKeyError\u001b[0m\u001b[1;33m(\u001b[0m\u001b[1;34mf\"Key '{key}' not present\"\u001b[0m\u001b[1;33m)\u001b[0m\u001b[1;33m\u001b[0m\u001b[0m\n\u001b[0m\u001b[0;32m    413\u001b[0m \u001b[1;33m\u001b[0m\u001b[0m\n\u001b[0;32m    414\u001b[0m     \u001b[1;32mdef\u001b[0m \u001b[0mget_vector\u001b[0m\u001b[1;33m(\u001b[0m\u001b[0mself\u001b[0m\u001b[1;33m,\u001b[0m \u001b[0mkey\u001b[0m\u001b[1;33m,\u001b[0m \u001b[0mnorm\u001b[0m\u001b[1;33m=\u001b[0m\u001b[1;32mFalse\u001b[0m\u001b[1;33m)\u001b[0m\u001b[1;33m:\u001b[0m\u001b[1;33m\u001b[0m\u001b[0m\n",
      "\u001b[1;31mKeyError\u001b[0m: \"Key '고인물' not present\""
     ]
    }
   ],
   "source": [
    "w2v_model.wv['고인물']"
   ]
  },
  {
   "cell_type": "code",
   "execution_count": 22,
   "metadata": {},
   "outputs": [
    {
     "data": {
      "text/plain": [
       "array([-0.09940056, -0.03564939,  0.09870532,  0.02966512, -0.01790801,\n",
       "       -0.01233355, -0.00055947,  0.09083677, -0.05760286, -0.0041881 ,\n",
       "        0.02426949, -0.13433151,  0.00862485,  0.10676658, -0.12296668,\n",
       "        0.04470526,  0.06632576, -0.01397197,  0.01218883, -0.05793754,\n",
       "       -0.1553409 ,  0.14258975, -0.05602446, -0.02750884,  0.00367039,\n",
       "       -0.00680569, -0.04691146,  0.12103314,  0.00774853, -0.00323641,\n",
       "        0.0120238 , -0.08482864, -0.0089274 ,  0.05476988, -0.06147758,\n",
       "       -0.05811347, -0.10383523, -0.00151175,  0.04954945,  0.05613916,\n",
       "       -0.02653487,  0.02346732, -0.01719736,  0.10358842,  0.02268302,\n",
       "        0.04163911, -0.06888217, -0.15899532, -0.04606161,  0.00088532,\n",
       "       -0.06294958,  0.05990667,  0.01108983,  0.01025069, -0.01414967,\n",
       "       -0.07395557,  0.0735611 ,  0.00243848,  0.04878221,  0.12280196,\n",
       "        0.00050942, -0.00198849, -0.07220486,  0.08857828,  0.00114007,\n",
       "       -0.03337764,  0.04306204,  0.03597564, -0.073215  ,  0.10848135,\n",
       "       -0.0179172 ,  0.00375797,  0.06352677, -0.03317511, -0.02397035,\n",
       "       -0.05752664,  0.11632698,  0.06130229, -0.0669428 ,  0.08886486,\n",
       "       -0.1054286 , -0.01780333, -0.00041398,  0.02571926, -0.06654699,\n",
       "        0.03489534,  0.01701271, -0.04060418,  0.10848827,  0.00779537,\n",
       "        0.04641494, -0.02595688, -0.0533441 , -0.02835291, -0.01146296,\n",
       "        0.03822232,  0.00579241,  0.12333888, -0.02252369,  0.04879967],\n",
       "      dtype=float32)"
      ]
     },
     "execution_count": 22,
     "metadata": {},
     "output_type": "execute_result"
    }
   ],
   "source": [
    "ft_model.wv['고인물']"
   ]
  },
  {
   "cell_type": "code",
   "execution_count": 30,
   "metadata": {},
   "outputs": [
    {
     "data": {
      "text/plain": [
       "[('빅데이터', 0.9183898568153381),\n",
       " ('▁빅데이터', 0.87186199426651),\n",
       " ('▁데이터베이스', 0.8555660843849182),\n",
       " ('중앙화', 0.8530203104019165),\n",
       " ('▁데이터센터', 0.8470616936683655),\n",
       " ('▁DLP', 0.8467522263526917),\n",
       " ('▁보안관제', 0.8399450778961182),\n",
       " ('위협', 0.835642397403717),\n",
       " ('접근', 0.8345462679862976),\n",
       " ('▁데이터', 0.832171618938446)]"
      ]
     },
     "execution_count": 30,
     "metadata": {},
     "output_type": "execute_result"
    }
   ],
   "source": [
    "ft_model.wv.most_similar('데이터')"
   ]
  },
  {
   "cell_type": "code",
   "execution_count": 31,
   "metadata": {},
   "outputs": [
    {
     "data": {
      "text/plain": [
       "[('징수', 0.8502567410469055),\n",
       " ('계약서', 0.8480408787727356),\n",
       " ('여금', 0.8358345031738281),\n",
       " ('유지', 0.8314090371131897),\n",
       " ('보험의', 0.8235677480697632),\n",
       " ('청구', 0.8230589628219604),\n",
       " ('▁산업재해보상', 0.8089543581008911),\n",
       " ('▁살생물', 0.808185875415802),\n",
       " ('개선', 0.8065752983093262),\n",
       " ('▁징수', 0.7960982918739319)]"
      ]
     },
     "execution_count": 31,
     "metadata": {},
     "output_type": "execute_result"
    }
   ],
   "source": [
    "ft_model.wv.most_similar('보상')"
   ]
  },
  {
   "cell_type": "code",
   "execution_count": 37,
   "metadata": {},
   "outputs": [
    {
     "data": {
      "text/plain": [
       "0.77200586"
      ]
     },
     "execution_count": 37,
     "metadata": {},
     "output_type": "execute_result"
    }
   ],
   "source": [
    "ft_model.wv.similarity('계약직', '비정규직')"
   ]
  },
  {
   "cell_type": "code",
   "execution_count": 38,
   "metadata": {},
   "outputs": [
    {
     "data": {
      "text/plain": [
       "0.8230589"
      ]
     },
     "execution_count": 38,
     "metadata": {},
     "output_type": "execute_result"
    }
   ],
   "source": [
    "ft_model.wv.similarity('보상', '청구')"
   ]
  },
  {
   "cell_type": "code",
   "execution_count": 39,
   "metadata": {},
   "outputs": [
    {
     "data": {
      "text/plain": [
       "0.5089019"
      ]
     },
     "execution_count": 39,
     "metadata": {},
     "output_type": "execute_result"
    }
   ],
   "source": [
    "ft_model.wv.similarity('보상', '계약직')"
   ]
  },
  {
   "cell_type": "code",
   "execution_count": 40,
   "metadata": {},
   "outputs": [
    {
     "data": {
      "text/plain": [
       "0.28621542"
      ]
     },
     "execution_count": 40,
     "metadata": {},
     "output_type": "execute_result"
    }
   ],
   "source": [
    "ft_model.wv.similarity('보상', '할리우드')"
   ]
  },
  {
   "cell_type": "markdown",
   "metadata": {
    "tags": []
   },
   "source": [
    "### 5. 문장 분류 (Document Classification)"
   ]
  },
  {
   "cell_type": "code",
   "execution_count": 41,
   "metadata": {},
   "outputs": [
    {
     "data": {
      "text/plain": [
       "(100,)"
      ]
     },
     "execution_count": 41,
     "metadata": {},
     "output_type": "execute_result"
    }
   ],
   "source": [
    "tokens = bpe_tokenizer.encode('이 회사는연봉상승이 너무 짜다').tokens\n",
    "embedding = np.mean([ft_model.wv[tk] for tk in tokens], axis=0)\n",
    "embedding.shape"
   ]
  },
  {
   "cell_type": "code",
   "execution_count": 42,
   "metadata": {},
   "outputs": [],
   "source": [
    "def text_to_embedding(input_sent) :\n",
    "    tokens = bpe_tokenizer.encode(input_sent).tokens\n",
    "    embedding = np.mean([ft_model.wv[tk] for tk in tokens], axis=0)\n",
    "    return embedding"
   ]
  },
  {
   "cell_type": "code",
   "execution_count": 43,
   "metadata": {},
   "outputs": [
    {
     "name": "stderr",
     "output_type": "stream",
     "text": [
      "100%|████████████████████████████████████████████████████████████████████████████| 3623/3623 [00:00<00:00, 5919.97it/s]\n"
     ]
    }
   ],
   "source": [
    "textdf['embedding'] = [text_to_embedding(text) for text in tqdm(textdf['text'])]"
   ]
  },
  {
   "cell_type": "code",
   "execution_count": 44,
   "metadata": {},
   "outputs": [],
   "source": [
    "from sklearn.model_selection import train_test_split\n",
    "from sklearn.linear_model import LogisticRegression\n",
    "from sklearn.ensemble import RandomForestClassifier\n",
    "from sklearn import svm"
   ]
  },
  {
   "cell_type": "code",
   "execution_count": 45,
   "metadata": {},
   "outputs": [],
   "source": [
    "np.random.seed(0)\n",
    "X_train, X_test, y_train, y_test =\\\n",
    "train_test_split(np.vstack(textdf['embedding'].values), textdf['label'].values, test_size=.25, random_state=0)"
   ]
  },
  {
   "cell_type": "code",
   "execution_count": 46,
   "metadata": {},
   "outputs": [
    {
     "data": {
      "text/plain": [
       "RandomForestClassifier(oob_score=True, random_state=0)"
      ]
     },
     "execution_count": 46,
     "metadata": {},
     "output_type": "execute_result"
    }
   ],
   "source": [
    "# Logistic Regression\n",
    "lr_clf = LogisticRegression()\n",
    "lr_clf.fit(X_train, y_train)\n",
    "\n",
    "# Support Vector Machine\n",
    "svm_clf = svm.SVC()\n",
    "svm_clf.fit(X_train, y_train)\n",
    "\n",
    "# Random Forest\n",
    "rf_clf = RandomForestClassifier(n_estimators=100, oob_score=True, random_state=0)\n",
    "rf_clf.fit(X_train, y_train)"
   ]
  },
  {
   "cell_type": "code",
   "execution_count": 47,
   "metadata": {},
   "outputs": [
    {
     "data": {
      "text/plain": [
       "(0.7737306843267108, 0.7683615819209039)"
      ]
     },
     "execution_count": 47,
     "metadata": {},
     "output_type": "execute_result"
    }
   ],
   "source": [
    "accuracy_score(y_test, lr_clf.predict(X_test)), f1_score(y_test, lr_clf.predict(X_test))"
   ]
  },
  {
   "cell_type": "code",
   "execution_count": 48,
   "metadata": {},
   "outputs": [
    {
     "data": {
      "text/plain": [
       "(0.7924944812362031, 0.7772511848341231)"
      ]
     },
     "execution_count": 48,
     "metadata": {},
     "output_type": "execute_result"
    }
   ],
   "source": [
    "accuracy_score(y_test, svm_clf.predict(X_test)), f1_score(y_test, svm_clf.predict(X_test))"
   ]
  },
  {
   "cell_type": "code",
   "execution_count": 49,
   "metadata": {},
   "outputs": [
    {
     "data": {
      "text/plain": [
       "(0.7770419426048565, 0.7645687645687647)"
      ]
     },
     "execution_count": 49,
     "metadata": {},
     "output_type": "execute_result"
    }
   ],
   "source": [
    "accuracy_score(y_test, rf_clf.predict(X_test)), f1_score(y_test, rf_clf.predict(X_test))"
   ]
  },
  {
   "cell_type": "code",
   "execution_count": 50,
   "metadata": {},
   "outputs": [],
   "source": [
    "def hr_sentiment_classifier(input_sent) :\n",
    "    embedding = text_to_embedding(input_sent)\n",
    "    output = svm_clf.predict(embedding.reshape(1,-1))[0]\n",
    "    return output    "
   ]
  },
  {
   "cell_type": "code",
   "execution_count": 51,
   "metadata": {},
   "outputs": [
    {
     "data": {
      "text/plain": [
       "1"
      ]
     },
     "execution_count": 51,
     "metadata": {},
     "output_type": "execute_result"
    }
   ],
   "source": [
    "hr_sentiment_classifier('자유분방하고 수평적인 분위기')"
   ]
  },
  {
   "cell_type": "code",
   "execution_count": 52,
   "metadata": {},
   "outputs": [
    {
     "data": {
      "text/plain": [
       "0"
      ]
     },
     "execution_count": 52,
     "metadata": {},
     "output_type": "execute_result"
    }
   ],
   "source": [
    "hr_sentiment_classifier('연봉이 거의 안 오름')"
   ]
  },
  {
   "cell_type": "code",
   "execution_count": 53,
   "metadata": {},
   "outputs": [
    {
     "data": {
      "text/plain": [
       "0"
      ]
     },
     "execution_count": 53,
     "metadata": {},
     "output_type": "execute_result"
    }
   ],
   "source": [
    "hr_sentiment_classifier('초봉이 높아서 만족')"
   ]
  },
  {
   "cell_type": "code",
   "execution_count": 54,
   "metadata": {},
   "outputs": [
    {
     "data": {
      "text/plain": [
       "0"
      ]
     },
     "execution_count": 54,
     "metadata": {},
     "output_type": "execute_result"
    }
   ],
   "source": [
    "hr_sentiment_classifier('적어도 내가 속한 팀은 꼰대 쌉쓰레기임')"
   ]
  },
  {
   "cell_type": "code",
   "execution_count": 55,
   "metadata": {},
   "outputs": [
    {
     "data": {
      "text/plain": [
       "0"
      ]
     },
     "execution_count": 55,
     "metadata": {},
     "output_type": "execute_result"
    }
   ],
   "source": [
    "hr_sentiment_classifier('KT는 배상하라 배상하라')"
   ]
  },
  {
   "cell_type": "code",
   "execution_count": 56,
   "metadata": {},
   "outputs": [
    {
     "data": {
      "text/plain": [
       "1"
      ]
     },
     "execution_count": 56,
     "metadata": {},
     "output_type": "execute_result"
    }
   ],
   "source": [
    "hr_sentiment_classifier('믿음직한 회사 LG U+')"
   ]
  },
  {
   "cell_type": "code",
   "execution_count": 57,
   "metadata": {},
   "outputs": [
    {
     "data": {
      "text/plain": [
       "1"
      ]
     },
     "execution_count": 57,
     "metadata": {},
     "output_type": "execute_result"
    }
   ],
   "source": [
    "hr_sentiment_classifier('믿고 쓰는 SKT')"
   ]
  }
 ],
 "metadata": {
  "kernelspec": {
   "display_name": "Python 3",
   "language": "python",
   "name": "python3"
  },
  "language_info": {
   "codemirror_mode": {
    "name": "ipython",
    "version": 3
   },
   "file_extension": ".py",
   "mimetype": "text/x-python",
   "name": "python",
   "nbconvert_exporter": "python",
   "pygments_lexer": "ipython3",
   "version": "3.7.0"
  }
 },
 "nbformat": 4,
 "nbformat_minor": 4
}

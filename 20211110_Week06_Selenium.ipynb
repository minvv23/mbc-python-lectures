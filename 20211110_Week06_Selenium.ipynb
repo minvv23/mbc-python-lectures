{
 "cells": [
  {
   "cell_type": "code",
   "execution_count": 2,
   "metadata": {},
   "outputs": [],
   "source": [
    "from bs4 import BeautifulSoup\n",
    "import pickle, multiprocessing\n",
    "from datetime import date, datetime, timedelta\n",
    "import sys, os, glob\n",
    "import requests, urllib.request, urllib.parse\n",
    "import csv, re, time, math\n",
    "import numpy as np, pandas as pd\n",
    "import json\n",
    "import seaborn as sns\n",
    "from itertools import chain\n",
    "from collections import Counter\n",
    "from tqdm import tqdm\n",
    "import matplotlib.pyplot as plt\n",
    "\n",
    "basic_header = {'User-Agent':'Mozilla/5.0 (Windows NT 10.0; Win64; x64) AppleWebKit/537.36 (KHTML, like Gecko) Chrome/83.0.4103.61 Safari/537.36',\n",
    "                \"Accept\":\"text/html,application/xhtml+xml,application/xml;\\q=0.9,imgwebp,*/*;q=0.8\"}\n",
    "            \n",
    "def pickle_reader(filename) :\n",
    "    with open(filename, 'rb') as f :\n",
    "        output_df = pickle.load(f)\n",
    "    return output_df\n",
    "\n",
    "def pickle_writer(objecttosave, filename) :\n",
    "    with open(filename, 'wb') as f :\n",
    "        pickle.dump(objecttosave, f, protocol=4)"
   ]
  },
  {
   "cell_type": "code",
   "execution_count": null,
   "metadata": {},
   "outputs": [],
   "source": []
  },
  {
   "cell_type": "code",
   "execution_count": null,
   "metadata": {},
   "outputs": [],
   "source": [
    "from selenium import webdriver\n",
    "from selenium.webdriver.common.keys import Keys\n",
    "import time\n",
    "import pyperclip\n",
    "\n",
    "def naver_login() :\n",
    "    driver.get('https://nid.naver.com/nidlogin.login?mode=form&url=https%3A%2F%2Fwww.naver.com')\n",
    "    time.sleep(1)\n",
    "\n",
    "    # id, pw 입력할 곳을 찾습니다.\n",
    "    tag_id = driver.find_element_by_name('id')\n",
    "    tag_pw = driver.find_element_by_name('pw')\n",
    "    tag_id.clear()\n",
    "\n",
    "    # id 입력\n",
    "    tag_id.click()\n",
    "    pyperclip.copy('asdf')\n",
    "    tag_id.send_keys(Keys.CONTROL, 'v')\n",
    "    time.sleep(.5)\n",
    "\n",
    "    # pw 입력\n",
    "    tag_pw.click()\n",
    "    pyperclip.copy('asdf')\n",
    "    tag_pw.send_keys(Keys.CONTROL, 'v')\n",
    "    time.sleep(.5)\n",
    "\n",
    "    # 로그인 버튼을 클릭합니다\n",
    "    login_btn = driver.find_element_by_id('log.login')\n",
    "    login_btn.click()"
   ]
  }
 ],
 "metadata": {
  "kernelspec": {
   "display_name": "Python 3",
   "language": "python",
   "name": "python3"
  },
  "language_info": {
   "codemirror_mode": {
    "name": "ipython",
    "version": 3
   },
   "file_extension": ".py",
   "mimetype": "text/x-python",
   "name": "python",
   "nbconvert_exporter": "python",
   "pygments_lexer": "ipython3",
   "version": "3.7.0"
  }
 },
 "nbformat": 4,
 "nbformat_minor": 4
}
